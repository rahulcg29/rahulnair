{
 "cells": [
  {
   "cell_type": "code",
   "execution_count": 2,
   "id": "b40bcc06-8df7-48f0-82bd-315d54bb45af",
   "metadata": {},
   "outputs": [
    {
     "name": "stdin",
     "output_type": "stream",
     "text": [
      "enter the number: char\n"
     ]
    },
    {
     "name": "stdout",
     "output_type": "stream",
     "text": [
      "Input must be a number invalid literal for int() with base 10: 'char'\n",
      "done\n"
     ]
    }
   ],
   "source": [
    "###practice\n",
    "try:\n",
    "    a=int(input(\"enter the number:\"))\n",
    "    b=int(input(\"enter the number:\"))\n",
    "    print(a/b)\n",
    "except ValueError as e:\n",
    "    print(\"Input must be a number\",e)\n",
    "except ZeroDivisionError as e:\n",
    "    print(\"Cannot divide by zero\",e)\n",
    "finally:\n",
    "    print(\"done\")"
   ]
  },
  {
   "cell_type": "code",
   "execution_count": 8,
   "id": "050326e2-bf68-4540-bfa6-b5372ad193d3",
   "metadata": {},
   "outputs": [
    {
     "name": "stdout",
     "output_type": "stream",
     "text": [
      "class === rahul\n",
      "sub === maths\n"
     ]
    }
   ],
   "source": [
    "###key and value concept\n",
    "char={\"class\":\"rahul\",\"sub\":\"maths\"}\n",
    "for key,value in char.items():\n",
    "    print(key,\"===\",value)"
   ]
  },
  {
   "cell_type": "code",
   "execution_count": 9,
   "id": "dce0049f-2a53-4caa-8eca-e583e9e2faa6",
   "metadata": {},
   "outputs": [
    {
     "name": "stdout",
     "output_type": "stream",
     "text": [
      "class\n",
      "sub\n"
     ]
    }
   ],
   "source": [
    "char={\"class\":\"rahul\",\"sub\":\"maths\"}\n",
    "for i in char:\n",
    "    print(i)"
   ]
  },
  {
   "cell_type": "code",
   "execution_count": 26,
   "id": "6cf45b99-4197-4a12-a9e3-249da6e243fe",
   "metadata": {},
   "outputs": [
    {
     "name": "stdout",
     "output_type": "stream",
     "text": [
      "3.141592653589793\n"
     ]
    }
   ],
   "source": [
    "###standard libraries\n",
    "import math as e\n",
    "print(e.pi)"
   ]
  },
  {
   "cell_type": "code",
   "execution_count": 27,
   "id": "1fc61033-ff38-47d5-983e-56538ce987b8",
   "metadata": {},
   "outputs": [
    {
     "name": "stdout",
     "output_type": "stream",
     "text": [
      "5.0\n"
     ]
    }
   ],
   "source": [
    "print(e.sqrt(25))"
   ]
  },
  {
   "cell_type": "code",
   "execution_count": 28,
   "id": "3d6d9ccd-9fdb-4c25-a6ac-7779054eb903",
   "metadata": {},
   "outputs": [
    {
     "name": "stdout",
     "output_type": "stream",
     "text": [
      "power: 243.0\n"
     ]
    }
   ],
   "source": [
    "print(\"power:\",e.pow(3,5))"
   ]
  },
  {
   "cell_type": "code",
   "execution_count": 29,
   "id": "795f7995-505b-47ff-8699-52df3fdc9761",
   "metadata": {},
   "outputs": [
    {
     "name": "stdout",
     "output_type": "stream",
     "text": [
      "floor: 3\n"
     ]
    }
   ],
   "source": [
    "print(\"floor:\",e.floor(3.19))###used to print lower value"
   ]
  },
  {
   "cell_type": "code",
   "execution_count": 32,
   "id": "3084f571-9e3f-4159-82ff-4f0afe8a3307",
   "metadata": {},
   "outputs": [
    {
     "name": "stdout",
     "output_type": "stream",
     "text": [
      "5\n"
     ]
    }
   ],
   "source": [
    "print(e.ceil(4.1))###used to print next greater value"
   ]
  },
  {
   "cell_type": "code",
   "execution_count": 31,
   "id": "649db2e2-3d85-4bbb-bb2d-6d35182a43b9",
   "metadata": {},
   "outputs": [
    {
     "name": "stdout",
     "output_type": "stream",
     "text": [
      "90.0\n"
     ]
    }
   ],
   "source": [
    "print(e.fabs(-90))###used to print positive value"
   ]
  },
  {
   "cell_type": "code",
   "execution_count": 33,
   "id": "967930f8-da78-4e69-b3a5-02f78d24b825",
   "metadata": {
    "scrolled": true
   },
   "outputs": [
    {
     "name": "stdout",
     "output_type": "stream",
     "text": [
      "datetime: 2025-05-21 22:37:15.689832\n"
     ]
    }
   ],
   "source": [
    "###datetime\n",
    "import datetime as t\n",
    "print(\"datetime:\",t.datetime.now())"
   ]
  },
  {
   "cell_type": "code",
   "execution_count": 36,
   "id": "ff2831fe-273c-4e50-a13f-76a58d1a35f1",
   "metadata": {},
   "outputs": [
    {
     "name": "stdout",
     "output_type": "stream",
     "text": [
      "datetoday: 2025-05-21 22:41:22.482794\n"
     ]
    }
   ],
   "source": [
    "print(\"datetoday:\",t.datetime.today())"
   ]
  },
  {
   "cell_type": "code",
   "execution_count": 39,
   "id": "04dc4043-3c93-4835-befd-253129bc5188",
   "metadata": {},
   "outputs": [
    {
     "name": "stdout",
     "output_type": "stream",
     "text": [
      "Wed May 21 23:21:32 2025\n"
     ]
    }
   ],
   "source": [
    "import time\n",
    "y=time.time()\n",
    "print(time.ctime(y))"
   ]
  },
  {
   "cell_type": "code",
   "execution_count": 46,
   "id": "1617baa8-a914-46de-9468-0ef488645482",
   "metadata": {},
   "outputs": [
    {
     "name": "stdout",
     "output_type": "stream",
     "text": [
      "C:\\Users\\cgvak-lt260\n"
     ]
    }
   ],
   "source": [
    "import os as o\n",
    "print(o.getcwd())"
   ]
  },
  {
   "cell_type": "code",
   "execution_count": 50,
   "id": "9f0ea5c7-0163-4147-bd4f-bc9efad53dd4",
   "metadata": {},
   "outputs": [
    {
     "name": "stdout",
     "output_type": "stream",
     "text": [
      "['.anaconda', '.conda', '.condarc', '.continuum', '.ipynb_checkpoints', '.ipython', '.jupyter', '.vscode', '21052025.ipynb', '22052025.ipynb', 'anaconda3', 'AppData', 'Application Data', 'Contacts', 'Cookies', 'Desktop', 'Documents', 'Downloads', 'Favorites', 'Links', 'Local Settings', 'Music', 'My Documents', 'NetHood', 'NTUSER.DAT', 'ntuser.dat.LOG1', 'ntuser.dat.LOG2', 'NTUSER.DAT{2ad838bc-efea-11ee-a54d-000d3a94eaa1}.TM.blf', 'NTUSER.DAT{2ad838bc-efea-11ee-a54d-000d3a94eaa1}.TMContainer00000000000000000001.regtrans-ms', 'NTUSER.DAT{2ad838bc-efea-11ee-a54d-000d3a94eaa1}.TMContainer00000000000000000002.regtrans-ms', 'ntuser.ini', 'OneDrive', 'Pictures', 'PrintHood', 'python1.py', 'python1605.ipynb', 'rahu1905.ipynb', 'rahu2025.ipynb', 'rahul.ipynb', 'rahul2105.ipynb', 'Recent', 'Saved Games', 'Searches', 'SendTo', 'Start Menu', 'Templates', 'Untitled.ipynb', 'Untitled1.ipynb', 'Untitled2.ipynb', 'Untitled3.ipynb', 'Untitled4.ipynb', 'Untitled5.ipynb', 'Videos']\n"
     ]
    }
   ],
   "source": [
    "import os as o\n",
    "print(o.listdir(o.getcwd()))"
   ]
  },
  {
   "cell_type": "code",
   "execution_count": 51,
   "id": "09c27a85-3b97-42bd-9073-898366569d67",
   "metadata": {},
   "outputs": [
    {
     "name": "stdout",
     "output_type": "stream",
     "text": [
      "5.0\n",
      "3.141592653589793\n",
      "8.0\n",
      "10\n",
      "11\n",
      "50.0\n"
     ]
    }
   ],
   "source": [
    "###math libraries\n",
    "import math as m\n",
    "print(m.sqrt(25))\n",
    "print(m.pi)\n",
    "print(m.pow(2,3))\n",
    "print(m.floor(10.2))\n",
    "print(m.ceil(10.2))\n",
    "print(m.fabs(-50))"
   ]
  },
  {
   "cell_type": "code",
   "execution_count": 64,
   "id": "f9276910-1b0e-49e9-8405-a040d7a0f147",
   "metadata": {},
   "outputs": [
    {
     "name": "stdout",
     "output_type": "stream",
     "text": [
      "2025-05-22 01:59:05.330419\n",
      "2025-05-22\n",
      "11:46:30\n"
     ]
    }
   ],
   "source": [
    "###datetime\n",
    "import datetime as t\n",
    "print(t.datetime.now())\n",
    "print(t.date(2025,5,22))\n",
    "print(t.time(11,46,30))\n"
   ]
  },
  {
   "cell_type": "code",
   "execution_count": 63,
   "id": "e233334a-bdba-4209-96b0-2da7525e7c2e",
   "metadata": {},
   "outputs": [
    {
     "name": "stdout",
     "output_type": "stream",
     "text": [
      "Wed May 21 23:48:34 2025\n"
     ]
    }
   ],
   "source": [
    "import time\n",
    "x=time.time()\n",
    "print(time.ctime(x))"
   ]
  },
  {
   "cell_type": "code",
   "execution_count": 71,
   "id": "2dd2ea96-a4ee-4538-8ad0-6658bd6778be",
   "metadata": {},
   "outputs": [
    {
     "name": "stdout",
     "output_type": "stream",
     "text": [
      "calendar:                                   2025\n",
      "\n",
      "      January                   February                   March\n",
      "Mo Tu We Th Fr Sa Su      Mo Tu We Th Fr Sa Su      Mo Tu We Th Fr Sa Su\n",
      "       1  2  3  4  5                      1  2                      1  2\n",
      " 6  7  8  9 10 11 12       3  4  5  6  7  8  9       3  4  5  6  7  8  9\n",
      "13 14 15 16 17 18 19      10 11 12 13 14 15 16      10 11 12 13 14 15 16\n",
      "20 21 22 23 24 25 26      17 18 19 20 21 22 23      17 18 19 20 21 22 23\n",
      "27 28 29 30 31            24 25 26 27 28            24 25 26 27 28 29 30\n",
      "                                                    31\n",
      "\n",
      "       April                      May                       June\n",
      "Mo Tu We Th Fr Sa Su      Mo Tu We Th Fr Sa Su      Mo Tu We Th Fr Sa Su\n",
      "    1  2  3  4  5  6                1  2  3  4                         1\n",
      " 7  8  9 10 11 12 13       5  6  7  8  9 10 11       2  3  4  5  6  7  8\n",
      "14 15 16 17 18 19 20      12 13 14 15 16 17 18       9 10 11 12 13 14 15\n",
      "21 22 23 24 25 26 27      19 20 21 22 23 24 25      16 17 18 19 20 21 22\n",
      "28 29 30                  26 27 28 29 30 31         23 24 25 26 27 28 29\n",
      "                                                    30\n",
      "\n",
      "        July                     August                  September\n",
      "Mo Tu We Th Fr Sa Su      Mo Tu We Th Fr Sa Su      Mo Tu We Th Fr Sa Su\n",
      "    1  2  3  4  5  6                   1  2  3       1  2  3  4  5  6  7\n",
      " 7  8  9 10 11 12 13       4  5  6  7  8  9 10       8  9 10 11 12 13 14\n",
      "14 15 16 17 18 19 20      11 12 13 14 15 16 17      15 16 17 18 19 20 21\n",
      "21 22 23 24 25 26 27      18 19 20 21 22 23 24      22 23 24 25 26 27 28\n",
      "28 29 30 31               25 26 27 28 29 30 31      29 30\n",
      "\n",
      "      October                   November                  December\n",
      "Mo Tu We Th Fr Sa Su      Mo Tu We Th Fr Sa Su      Mo Tu We Th Fr Sa Su\n",
      "       1  2  3  4  5                      1  2       1  2  3  4  5  6  7\n",
      " 6  7  8  9 10 11 12       3  4  5  6  7  8  9       8  9 10 11 12 13 14\n",
      "13 14 15 16 17 18 19      10 11 12 13 14 15 16      15 16 17 18 19 20 21\n",
      "20 21 22 23 24 25 26      17 18 19 20 21 22 23      22 23 24 25 26 27 28\n",
      "27 28 29 30 31            24 25 26 27 28 29 30      29 30 31\n",
      "\n"
     ]
    }
   ],
   "source": [
    "import calendar\n",
    "y=calendar.calendar(2025)\n",
    "print(\"calendar:\",y)"
   ]
  },
  {
   "cell_type": "code",
   "execution_count": 76,
   "id": "a9a9883c-9900-477a-aa0c-9bb58690c44b",
   "metadata": {},
   "outputs": [
    {
     "name": "stdout",
     "output_type": "stream",
     "text": [
      "      May 2025\n",
      "Mo Tu We Th Fr Sa Su\n",
      "          1  2  3  4\n",
      " 5  6  7  8  9 10 11\n",
      "12 13 14 15 16 17 18\n",
      "19 20 21 22 23 24 25\n",
      "26 27 28 29 30 31\n",
      "\n"
     ]
    }
   ],
   "source": [
    "import calendar\n",
    "y=calendar.month(2025,5)\n",
    "print(y)"
   ]
  },
  {
   "cell_type": "code",
   "execution_count": 90,
   "id": "3da4daf4-cc9e-473d-81ce-86d4479f5985",
   "metadata": {},
   "outputs": [],
   "source": [
    "###os.listdir(path) – Lists all files and directories in a given path.\n",
    "\n",
    "###os.path.join(dir, file) – Creates a full path by joining directory and file names.\n",
    "\n",
    "###os.path.isfile(path) – Checks if the path is a file (not a directory).\n",
    "\n",
    "###os.path.getsize(path) – Returns the file size in bytes.\n",
    "\n",
    "###os.path.getmtime(path) – Returns the last modification time of the file (as a Unix timestamp)."
   ]
  },
  {
   "cell_type": "code",
   "execution_count": 93,
   "id": "0341347f-849f-4485-90c5-a574e1b567a0",
   "metadata": {},
   "outputs": [
    {
     "data": {
      "text/plain": [
       "['DirEntry',\n",
       " 'EX_OK',\n",
       " 'F_OK',\n",
       " 'GenericAlias',\n",
       " 'Mapping',\n",
       " 'MutableMapping',\n",
       " 'O_APPEND',\n",
       " 'O_BINARY',\n",
       " 'O_CREAT',\n",
       " 'O_EXCL',\n",
       " 'O_NOINHERIT',\n",
       " 'O_RANDOM',\n",
       " 'O_RDONLY',\n",
       " 'O_RDWR',\n",
       " 'O_SEQUENTIAL',\n",
       " 'O_SHORT_LIVED',\n",
       " 'O_TEMPORARY',\n",
       " 'O_TEXT',\n",
       " 'O_TRUNC',\n",
       " 'O_WRONLY',\n",
       " 'P_DETACH',\n",
       " 'P_NOWAIT',\n",
       " 'P_NOWAITO',\n",
       " 'P_OVERLAY',\n",
       " 'P_WAIT',\n",
       " 'PathLike',\n",
       " 'R_OK',\n",
       " 'SEEK_CUR',\n",
       " 'SEEK_END',\n",
       " 'SEEK_SET',\n",
       " 'TMP_MAX',\n",
       " 'W_OK',\n",
       " 'X_OK',\n",
       " '_AddedDllDirectory',\n",
       " '_Environ',\n",
       " '__all__',\n",
       " '__builtins__',\n",
       " '__doc__',\n",
       " '__file__',\n",
       " '__loader__',\n",
       " '__name__',\n",
       " '__package__',\n",
       " '__spec__',\n",
       " '_check_methods',\n",
       " '_execvpe',\n",
       " '_exists',\n",
       " '_exit',\n",
       " '_fspath',\n",
       " '_get_exports_list',\n",
       " '_walk_symlinks_as_files',\n",
       " '_wrap_close',\n",
       " 'abc',\n",
       " 'abort',\n",
       " 'access',\n",
       " 'add_dll_directory',\n",
       " 'altsep',\n",
       " 'chdir',\n",
       " 'chmod',\n",
       " 'close',\n",
       " 'closerange',\n",
       " 'cpu_count',\n",
       " 'curdir',\n",
       " 'defpath',\n",
       " 'device_encoding',\n",
       " 'devnull',\n",
       " 'dup',\n",
       " 'dup2',\n",
       " 'environ',\n",
       " 'error',\n",
       " 'execl',\n",
       " 'execle',\n",
       " 'execlp',\n",
       " 'execlpe',\n",
       " 'execv',\n",
       " 'execve',\n",
       " 'execvp',\n",
       " 'execvpe',\n",
       " 'extsep',\n",
       " 'fdopen',\n",
       " 'fsdecode',\n",
       " 'fsencode',\n",
       " 'fspath',\n",
       " 'fstat',\n",
       " 'fsync',\n",
       " 'ftruncate',\n",
       " 'get_blocking',\n",
       " 'get_exec_path',\n",
       " 'get_handle_inheritable',\n",
       " 'get_inheritable',\n",
       " 'get_terminal_size',\n",
       " 'getcwd',\n",
       " 'getcwdb',\n",
       " 'getenv',\n",
       " 'getlogin',\n",
       " 'getpid',\n",
       " 'getppid',\n",
       " 'isatty',\n",
       " 'kill',\n",
       " 'linesep',\n",
       " 'link',\n",
       " 'listdir',\n",
       " 'listdrives',\n",
       " 'listmounts',\n",
       " 'listvolumes',\n",
       " 'lseek',\n",
       " 'lstat',\n",
       " 'makedirs',\n",
       " 'mkdir',\n",
       " 'name',\n",
       " 'open',\n",
       " 'pardir',\n",
       " 'path',\n",
       " 'pathsep',\n",
       " 'pipe',\n",
       " 'popen',\n",
       " 'putenv',\n",
       " 'read',\n",
       " 'readlink',\n",
       " 'remove',\n",
       " 'removedirs',\n",
       " 'rename',\n",
       " 'renames',\n",
       " 'replace',\n",
       " 'rmdir',\n",
       " 'scandir',\n",
       " 'sep',\n",
       " 'set_blocking',\n",
       " 'set_handle_inheritable',\n",
       " 'set_inheritable',\n",
       " 'spawnl',\n",
       " 'spawnle',\n",
       " 'spawnv',\n",
       " 'spawnve',\n",
       " 'st',\n",
       " 'startfile',\n",
       " 'stat',\n",
       " 'stat_result',\n",
       " 'statvfs_result',\n",
       " 'strerror',\n",
       " 'supports_bytes_environ',\n",
       " 'supports_dir_fd',\n",
       " 'supports_effective_ids',\n",
       " 'supports_fd',\n",
       " 'supports_follow_symlinks',\n",
       " 'symlink',\n",
       " 'sys',\n",
       " 'system',\n",
       " 'terminal_size',\n",
       " 'times',\n",
       " 'times_result',\n",
       " 'truncate',\n",
       " 'umask',\n",
       " 'uname_result',\n",
       " 'unlink',\n",
       " 'unsetenv',\n",
       " 'urandom',\n",
       " 'utime',\n",
       " 'waitpid',\n",
       " 'waitstatus_to_exitcode',\n",
       " 'walk',\n",
       " 'write']"
      ]
     },
     "execution_count": 93,
     "metadata": {},
     "output_type": "execute_result"
    }
   ],
   "source": [
    "import os as o\n",
    "dir(o)"
   ]
  },
  {
   "cell_type": "code",
   "execution_count": 98,
   "id": "85b91091-461b-49d3-a183-506638447efb",
   "metadata": {},
   "outputs": [
    {
     "name": "stdout",
     "output_type": "stream",
     "text": [
      "['In', 'Out', '_', '_93', '__', '___', '__builtin__', '__builtins__', '__doc__', '__loader__', '__name__', '__package__', '__session__', '__spec__', '_dh', '_i', '_i1', '_i10', '_i11', '_i12', '_i13', '_i14', '_i15', '_i16', '_i17', '_i18', '_i19', '_i2', '_i20', '_i21', '_i22', '_i23', '_i24', '_i25', '_i26', '_i27', '_i28', '_i29', '_i3', '_i30', '_i31', '_i32', '_i33', '_i34', '_i35', '_i36', '_i37', '_i38', '_i39', '_i4', '_i40', '_i41', '_i42', '_i43', '_i44', '_i45', '_i46', '_i47', '_i48', '_i49', '_i5', '_i50', '_i51', '_i52', '_i53', '_i54', '_i55', '_i56', '_i57', '_i58', '_i59', '_i6', '_i60', '_i61', '_i62', '_i63', '_i64', '_i65', '_i66', '_i67', '_i68', '_i69', '_i7', '_i70', '_i71', '_i72', '_i73', '_i74', '_i75', '_i76', '_i77', '_i78', '_i79', '_i8', '_i80', '_i81', '_i82', '_i83', '_i84', '_i85', '_i86', '_i87', '_i88', '_i89', '_i9', '_i90', '_i91', '_i92', '_i93', '_i94', '_i95', '_i96', '_i97', '_i98', '_ih', '_ii', '_iii', '_oh', 'calendar', 'char', 'e', 'exit', 'get_ipython', 'i', 'key', 'm', 'math', 'o', 'open', 'os', 'quit', 't', 'time', 'value', 'x', 'y']\n"
     ]
    }
   ],
   "source": [
    "import os as o\n",
    "print(dir())"
   ]
  },
  {
   "cell_type": "code",
   "execution_count": 99,
   "id": "2b4b7a67-b9c7-484d-8965-b6fa7ffd4862",
   "metadata": {},
   "outputs": [
    {
     "name": "stdout",
     "output_type": "stream",
     "text": [
      "C:\\Users\\cgvak-lt260\n"
     ]
    }
   ],
   "source": [
    "import os\n",
    "print(os.getcwd())"
   ]
  },
  {
   "cell_type": "code",
   "execution_count": 101,
   "id": "13bb8e48-53cf-4658-9cbe-302cd5d9bf46",
   "metadata": {},
   "outputs": [
    {
     "data": {
      "text/plain": [
       "'C:\\\\python'"
      ]
     },
     "execution_count": 101,
     "metadata": {},
     "output_type": "execute_result"
    }
   ],
   "source": [
    "import os\n",
    "os.chdir(\"C:/python\")\n",
    "os.getcwd()"
   ]
  },
  {
   "cell_type": "code",
   "execution_count": 103,
   "id": "960f8ec1-9a87-4cfd-8eba-397b3788f31f",
   "metadata": {},
   "outputs": [
    {
     "name": "stdout",
     "output_type": "stream",
     "text": [
      "5.0\n",
      "8.0\n",
      "10\n",
      "11\n",
      "50.0\n"
     ]
    }
   ],
   "source": [
    "import math as m\n",
    "print(m.sqrt(25))\n",
    "print(m.pow(2,3))\n",
    "print(m.floor(10.2))\n",
    "print(m.ceil(10.2))\n",
    "print(m.fabs(-50))"
   ]
  },
  {
   "cell_type": "code",
   "execution_count": 105,
   "id": "61f6d58c-b707-41ed-ba4e-a7766da42185",
   "metadata": {},
   "outputs": [
    {
     "name": "stdout",
     "output_type": "stream",
     "text": [
      "0.42096605347519844\n"
     ]
    }
   ],
   "source": [
    "import random \n",
    "print(random.random())"
   ]
  },
  {
   "cell_type": "code",
   "execution_count": 130,
   "id": "525a6f0f-8525-4458-a1be-eebedc157715",
   "metadata": {},
   "outputs": [
    {
     "data": {
      "text/plain": [
       "['arjun', 'fruits.txt', 'gopi', 'rahul']"
      ]
     },
     "execution_count": 130,
     "metadata": {},
     "output_type": "execute_result"
    }
   ],
   "source": [
    "import os\n",
    "os.mkdir(\"gopi\")\n",
    "os.listdir()"
   ]
  },
  {
   "cell_type": "code",
   "execution_count": 131,
   "id": "78a6d46a-a75f-4b33-a839-7eadddfeefe8",
   "metadata": {},
   "outputs": [
    {
     "data": {
      "text/plain": [
       "['arjun', 'fruits.txt', 'gopi', 'rahul']"
      ]
     },
     "execution_count": 131,
     "metadata": {},
     "output_type": "execute_result"
    }
   ],
   "source": [
    "os.makedirs(\"gopi/rahul\")\n",
    "os.listdir()"
   ]
  },
  {
   "cell_type": "code",
   "execution_count": 119,
   "id": "f4a92f21-951c-4cc4-a08a-b522d364a04c",
   "metadata": {},
   "outputs": [
    {
     "name": "stdout",
     "output_type": "stream",
     "text": [
      "0.09411305024906724\n"
     ]
    }
   ],
   "source": [
    "import random \n",
    "print(random.random())"
   ]
  },
  {
   "cell_type": "code",
   "execution_count": 136,
   "id": "f50076f9-aa4c-45b5-878c-544fe09341ea",
   "metadata": {},
   "outputs": [
    {
     "name": "stdout",
     "output_type": "stream",
     "text": [
      "20\n"
     ]
    }
   ],
   "source": [
    "import random\n",
    "a=[10,20,30]\n",
    "print(random.choice(a))\n"
   ]
  },
  {
   "cell_type": "code",
   "execution_count": 133,
   "id": "1c08da41-47a4-4f7c-982f-7bc0c03a84b9",
   "metadata": {},
   "outputs": [
    {
     "ename": "TypeError",
     "evalue": "Random.uniform() missing 1 required positional argument: 'b'",
     "output_type": "error",
     "traceback": [
      "\u001b[1;31m---------------------------------------------------------------------------\u001b[0m",
      "\u001b[1;31mTypeError\u001b[0m                                 Traceback (most recent call last)",
      "Cell \u001b[1;32mIn[133], line 1\u001b[0m\n\u001b[1;32m----> 1\u001b[0m \u001b[38;5;28mprint\u001b[39m(random\u001b[38;5;241m.\u001b[39muniform(a))\n",
      "\u001b[1;31mTypeError\u001b[0m: Random.uniform() missing 1 required positional argument: 'b'"
     ]
    }
   ],
   "source": [
    "print(random.uniform(a))"
   ]
  },
  {
   "cell_type": "code",
   "execution_count": 139,
   "id": "7b811eac-c3aa-4ef3-bf53-26ea23791d93",
   "metadata": {},
   "outputs": [
    {
     "name": "stdout",
     "output_type": "stream",
     "text": [
      "25.97761364766746\n",
      "None\n"
     ]
    }
   ],
   "source": [
    "a=[20,30,50]\n",
    "print(random.uniform(20,50))\n",
    "print(random.shuffle(a))"
   ]
  },
  {
   "cell_type": "code",
   "execution_count": 144,
   "id": "730134ef-e0aa-4a1d-8d47-2d796df07c95",
   "metadata": {},
   "outputs": [
    {
     "name": "stdout",
     "output_type": "stream",
     "text": [
      "<itertools.chain object at 0x000002468F4372E0>\n",
      "[10, 20, 30]\n",
      "[10, 30, 50]\n",
      "[55, 60, 78]\n"
     ]
    }
   ],
   "source": [
    "###itertools\n",
    "from itertools import chain\n",
    "sub=([10,20,30],[10,30,50],[55,60,78])\n",
    "print(chain(sub))\n",
    "for i in sub:\n",
    "    print(i)"
   ]
  },
  {
   "cell_type": "code",
   "execution_count": 145,
   "id": "57be4635-c522-480b-9e0b-929c32d32a7b",
   "metadata": {},
   "outputs": [
    {
     "name": "stdout",
     "output_type": "stream",
     "text": [
      "<itertools.chain object at 0x000002468F748B80>\n",
      "(10, 10, 50)\n",
      "(50, 60, 70)\n",
      "(60, 70, 80)\n"
     ]
    }
   ],
   "source": [
    "from itertools import chain\n",
    "l=(10,10,50)\n",
    "a=(50,60,70)\n",
    "b=(60,70,80)\n",
    "print(chain(l,a,b))\n",
    "for i in l,a,b:\n",
    "    print(i)"
   ]
  },
  {
   "cell_type": "code",
   "execution_count": 158,
   "id": "f73f697d-981b-46cd-b6b9-de56ca3eee7a",
   "metadata": {},
   "outputs": [
    {
     "name": "stdout",
     "output_type": "stream",
     "text": [
      "1\n",
      "2\n",
      "3\n",
      "4\n",
      "10\n"
     ]
    }
   ],
   "source": [
    "sub=[1,2,3,4,10]\n",
    "for i in sub:\n",
    "    print(i)"
   ]
  },
  {
   "cell_type": "code",
   "execution_count": 159,
   "id": "43fa3fc7-7a91-43ef-9bbe-9f41f104c801",
   "metadata": {},
   "outputs": [
    {
     "data": {
      "text/plain": [
       "1"
      ]
     },
     "execution_count": 159,
     "metadata": {},
     "output_type": "execute_result"
    }
   ],
   "source": [
    "sub=iter(sub)\n",
    "next(sub)"
   ]
  },
  {
   "cell_type": "code",
   "execution_count": 161,
   "id": "8d6f47c2-afb4-448f-b270-685c1121e6b2",
   "metadata": {},
   "outputs": [
    {
     "name": "stdout",
     "output_type": "stream",
     "text": [
      "<itertools.chain object at 0x000002468F437FD0>\n",
      "[10, 20, 30]\n",
      "[50, 60]\n",
      "[70, 80]\n"
     ]
    }
   ],
   "source": [
    "from itertools import chain\n",
    "bb=[10,20,30]\n",
    "cc=[50,60]\n",
    "dd=[70,80]\n",
    "print(chain(bb,cc,dd))\n",
    "for i in bb,cc,dd:\n",
    "    print(i)"
   ]
  },
  {
   "cell_type": "code",
   "execution_count": 162,
   "id": "e76ef0c8-b381-4c25-b298-69d16772034a",
   "metadata": {},
   "outputs": [
    {
     "ename": "SyntaxError",
     "evalue": "incomplete input (497811359.py, line 1)",
     "output_type": "error",
     "traceback": [
      "\u001b[1;36m  Cell \u001b[1;32mIn[162], line 1\u001b[1;36m\u001b[0m\n\u001b[1;33m    class animal():\u001b[0m\n\u001b[1;37m                   ^\u001b[0m\n\u001b[1;31mSyntaxError\u001b[0m\u001b[1;31m:\u001b[0m incomplete input\n"
     ]
    }
   ],
   "source": [
    "class animal():\n",
    "    def dog(self):\n",
    "        return\"bark\"\n",
    "    def cat(self):\n",
    "        return\"meow\"\n",
    "class sound(animal):\n",
    "    def animal_sound(self):\n",
    "        print(animal,\""
   ]
  },
  {
   "cell_type": "code",
   "execution_count": 177,
   "id": "a412ad38-1309-4305-85ae-c9c5b8a5ee98",
   "metadata": {},
   "outputs": [
    {
     "data": {
      "text/plain": [
       "8"
      ]
     },
     "execution_count": 177,
     "metadata": {},
     "output_type": "execute_result"
    }
   ],
   "source": [
    "from operator import mul\n",
    "from functools import partial\n",
    "mul1 =partial(mul,4)\n",
    "mul1\n",
    "mul1(1)\n",
    "mul1(2)"
   ]
  },
  {
   "cell_type": "code",
   "execution_count": null,
   "id": "1c15d43f-a59e-4ac2-b724-2b24448c266e",
   "metadata": {},
   "outputs": [],
   "source": [
    "###practice codes\n",
    "import datetime as t\n",
    "print(t.datetime.now())\n",
    "\n",
    "print(t.datetime.today())\n",
    "import calendar\n",
    "y=calendar.calendar(2025)\n",
    "x=calendar.month(2025,5)\n",
    "import time\n",
    "y=time.ctime()\n",
    "###os and sys\n",
    "import os\n",
    "os.chdir()\n",
    "os.mkdir()\n",
    "os.makesdirs()\n",
    "os.getcwd()\n",
    "os.listdir()\n",
    "###sys\n",
    "import sys\n",
    "sys.system\n",
    "sys.module\n",
    "sys.builtin_module\n",
    "###math\n",
    "import math\n",
    "math.pi\n",
    "math.sqrt\n",
    "math.floor\n",
    "math.fasb\n",
    "math.ceil\n",
    "math.pow\n",
    "###re\n",
    "random.random()\n",
    "random.uniform()\n",
    "rand"
   ]
  }
 ],
 "metadata": {
  "kernelspec": {
   "display_name": "Python 3 (ipykernel)",
   "language": "python",
   "name": "python3"
  },
  "language_info": {
   "codemirror_mode": {
    "name": "ipython",
    "version": 3
   },
   "file_extension": ".py",
   "mimetype": "text/x-python",
   "name": "python",
   "nbconvert_exporter": "python",
   "pygments_lexer": "ipython3",
   "version": "3.12.7"
  }
 },
 "nbformat": 4,
 "nbformat_minor": 5
}
