{
 "cells": [
  {
   "cell_type": "code",
   "execution_count": 31,
   "id": "c6d049c1-6fcb-4198-80e2-2a03f79469cd",
   "metadata": {},
   "outputs": [
    {
     "name": "stdout",
     "output_type": "stream",
     "text": [
      "20.0\n",
      "greater\n",
      "thankyou\n"
     ]
    }
   ],
   "source": [
    "###practice qn\n",
    "try:\n",
    "    num=lambda a,b,c:a+b/c\n",
    "    result=num(10,20,2)\n",
    "    print(result)\n",
    "    if result > 10:\n",
    "        print(\"greater\")\n",
    "    else:\n",
    "        print(\"no input\")\n",
    "except Exception as e:\n",
    "    print(\"Exception\",e)\n",
    "finally:\n",
    "    print(\"thankyou\")"
   ]
  },
  {
   "cell_type": "markdown",
   "id": "773f42e2-c2ec-48f5-85ed-981ee2209a8d",
   "metadata": {},
   "source": [
    "## "
   ]
  },
  {
   "cell_type": "code",
   "execution_count": 66,
   "id": "1b390b15-080c-4d25-ab58-906c11c04758",
   "metadata": {},
   "outputs": [
    {
     "name": "stdout",
     "output_type": "stream",
     "text": [
      "updated\n"
     ]
    }
   ],
   "source": [
    "try:\n",
    "    class college():\n",
    "        def stud(self):\n",
    "            name=input(\"enter name:\")\n",
    "            section=int(input(\"enter class:\"))\n",
    "    class rks(college):\n",
    "         def dept(self):\n",
    "             name=input(\"enter name:\")\n",
    "             section=int(input(\"enter class:\"))\n",
    "             print(dept)\n",
    "except Exception as e:\n",
    "    print(\"Exception\",e)\n",
    "finally:\n",
    "    print(\"updated\")\n",
    "    "
   ]
  },
  {
   "cell_type": "code",
   "execution_count": 65,
   "id": "de7c61ea-1e4e-4058-97f0-ec3f96e24216",
   "metadata": {},
   "outputs": [
    {
     "name": "stdin",
     "output_type": "stream",
     "text": [
      "enter name: cravin\n",
      "enter class: 20505\n"
     ]
    },
    {
     "ename": "NameError",
     "evalue": "name 'stud' is not defined",
     "output_type": "error",
     "traceback": [
      "\u001b[1;31m---------------------------------------------------------------------------\u001b[0m",
      "\u001b[1;31mNameError\u001b[0m                                 Traceback (most recent call last)",
      "Cell \u001b[1;32mIn[65], line 2\u001b[0m\n\u001b[0;32m      1\u001b[0m cravin\u001b[38;5;241m=\u001b[39mrks()\n\u001b[1;32m----> 2\u001b[0m cravin\u001b[38;5;241m.\u001b[39mstud()\n",
      "Cell \u001b[1;32mIn[64], line 6\u001b[0m, in \u001b[0;36mcollege.stud\u001b[1;34m(self)\u001b[0m\n\u001b[0;32m      4\u001b[0m name\u001b[38;5;241m=\u001b[39m\u001b[38;5;28minput\u001b[39m(\u001b[38;5;124m\"\u001b[39m\u001b[38;5;124menter name:\u001b[39m\u001b[38;5;124m\"\u001b[39m)\n\u001b[0;32m      5\u001b[0m section\u001b[38;5;241m=\u001b[39m\u001b[38;5;28mint\u001b[39m(\u001b[38;5;28minput\u001b[39m(\u001b[38;5;124m\"\u001b[39m\u001b[38;5;124menter class:\u001b[39m\u001b[38;5;124m\"\u001b[39m))\n\u001b[1;32m----> 6\u001b[0m \u001b[38;5;28;01mreturn\u001b[39;00m stud\n",
      "\u001b[1;31mNameError\u001b[0m: name 'stud' is not defined"
     ]
    }
   ],
   "source": [
    "cravin=rks()\n",
    "cravin.stud()"
   ]
  },
  {
   "cell_type": "code",
   "execution_count": 67,
   "id": "ac68b4aa-7fe0-4642-a888-6ef5d9e932ad",
   "metadata": {},
   "outputs": [
    {
     "data": {
      "text/plain": [
       "1"
      ]
     },
     "execution_count": 67,
     "metadata": {},
     "output_type": "execute_result"
    }
   ],
   "source": [
    "a=[1,2,3,4]\n",
    "a=iter(a)\n",
    "next(a)"
   ]
  },
  {
   "cell_type": "code",
   "execution_count": 75,
   "id": "1ca8484f-424b-41fe-b0bd-37b9ad149b11",
   "metadata": {},
   "outputs": [],
   "source": [
    "from itertools import chain\n",
    "a=([10,20,30],[50,60],[1022,2025])\n"
   ]
  },
  {
   "cell_type": "code",
   "execution_count": 76,
   "id": "eeef9816-b96b-4031-92a8-3affb033fbaf",
   "metadata": {},
   "outputs": [
    {
     "name": "stdout",
     "output_type": "stream",
     "text": [
      "<itertools.chain object at 0x0000020CB51CABF0>\n"
     ]
    }
   ],
   "source": [
    "print(chain(a))"
   ]
  },
  {
   "cell_type": "code",
   "execution_count": 79,
   "id": "0ad3b19b-0c32-43fe-aa0f-d8473dace6dd",
   "metadata": {},
   "outputs": [
    {
     "name": "stdout",
     "output_type": "stream",
     "text": [
      "1\n",
      "2\n",
      "3\n",
      "4\n",
      "5\n",
      "6\n",
      "7\n",
      "8\n",
      "9\n",
      "10\n"
     ]
    },
    {
     "data": {
      "text/plain": [
       "<__main__.scl at 0x20cb51eb290>"
      ]
     },
     "execution_count": 79,
     "metadata": {},
     "output_type": "execute_result"
    }
   ],
   "source": [
    "class scl():\n",
    "    for i in range(1,11):\n",
    "        print(i)\n",
    "scl()"
   ]
  },
  {
   "cell_type": "code",
   "execution_count": 92,
   "id": "b83d70ec-bae4-43e1-a278-a89862850c9d",
   "metadata": {},
   "outputs": [
    {
     "name": "stdout",
     "output_type": "stream",
     "text": [
      "<generator object cravin at 0x0000020CB6285E50>\n"
     ]
    }
   ],
   "source": [
    "def cravin():\n",
    "    for i in range(1,10):\n",
    "        yield i\n",
    "cravin=cravin()\n",
    "print(cravin)"
   ]
  },
  {
   "cell_type": "code",
   "execution_count": 93,
   "id": "4d55dcbd-30c4-49de-9cee-71666d2bca5c",
   "metadata": {},
   "outputs": [
    {
     "data": {
      "text/plain": [
       "1"
      ]
     },
     "execution_count": 93,
     "metadata": {},
     "output_type": "execute_result"
    }
   ],
   "source": [
    "next(cravin)"
   ]
  },
  {
   "cell_type": "code",
   "execution_count": 100,
   "id": "bdfd482a-66ca-44b4-9a8a-00c3f034db7f",
   "metadata": {},
   "outputs": [
    {
     "data": {
      "text/plain": [
       "<__main__.alphabets at 0x20cb60fc2c0>"
      ]
     },
     "execution_count": 100,
     "metadata": {},
     "output_type": "execute_result"
    }
   ],
   "source": [
    "class alphabets():\n",
    "    def longest_word(self):\n",
    "         word=input(\"enter the name:\")\n",
    "         print(len(word))\n",
    "alphabets()  "
   ]
  },
  {
   "cell_type": "code",
   "execution_count": 103,
   "id": "4ff6b356-5be6-46f5-b007-9cec0259e082",
   "metadata": {},
   "outputs": [
    {
     "name": "stdin",
     "output_type": "stream",
     "text": [
      "enter the name: cravin\n"
     ]
    },
    {
     "name": "stdout",
     "output_type": "stream",
     "text": [
      "6\n"
     ]
    }
   ],
   "source": [
    "rahul=alphabets()\n",
    "rahul.longest_word()\n"
   ]
  },
  {
   "cell_type": "code",
   "execution_count": 28,
   "id": "d245403c-555d-4b29-b1c8-7800f7932a1a",
   "metadata": {},
   "outputs": [
    {
     "name": "stdout",
     "output_type": "stream",
     "text": [
      "-5\n"
     ]
    },
    {
     "ename": "TypeError",
     "evalue": "<lambda>() missing 2 required positional arguments: 'a' and 'b'",
     "output_type": "error",
     "traceback": [
      "\u001b[1;31m---------------------------------------------------------------------------\u001b[0m",
      "\u001b[1;31mTypeError\u001b[0m                                 Traceback (most recent call last)",
      "Cell \u001b[1;32mIn[28], line 4\u001b[0m\n\u001b[0;32m      2\u001b[0m \u001b[38;5;28mprint\u001b[39m(x(\u001b[38;5;241m5\u001b[39m,\u001b[38;5;241m10\u001b[39m))\n\u001b[0;32m      3\u001b[0m \u001b[38;5;28;01mimport\u001b[39;00m \u001b[38;5;21;01mmath\u001b[39;00m \u001b[38;5;28;01mas\u001b[39;00m \u001b[38;5;21;01mm\u001b[39;00m\n\u001b[1;32m----> 4\u001b[0m x\u001b[38;5;241m=\u001b[39mresult()\n\u001b[0;32m      5\u001b[0m \u001b[38;5;28mprint\u001b[39m(m\u001b[38;5;241m.\u001b[39mfloor(result))\n",
      "\u001b[1;31mTypeError\u001b[0m: <lambda>() missing 2 required positional arguments: 'a' and 'b'"
     ]
    }
   ],
   "source": [
    "\n",
    "x= lambda a,b:a-b\n",
    "print(x(5,10))\n",
    "import "
   ]
  },
  {
   "cell_type": "code",
   "execution_count": 30,
   "id": "6eff455a-5e0d-4c08-97bb-f3d409536f3a",
   "metadata": {},
   "outputs": [
    {
     "name": "stdout",
     "output_type": "stream",
     "text": [
      "admission full\n"
     ]
    }
   ],
   "source": [
    "def skacas(college):\n",
    "    def stud():\n",
    "        print(\"the stdts admission have been improved\")\n",
    "        print(\"we introduced pg courses\")\n",
    "    return stud\n",
    "\n",
    "skacas\n",
    "def opening():\n",
    "    print(\"admission full\")\n",
    "\n",
    "opening()"
   ]
  },
  {
   "cell_type": "code",
   "execution_count": null,
   "id": "4ed829fa-c4f7-4b95-bb88-e6898c547d1e",
   "metadata": {},
   "outputs": [],
   "source": []
  }
 ],
 "metadata": {
  "kernelspec": {
   "display_name": "Python 3 (ipykernel)",
   "language": "python",
   "name": "python3"
  },
  "language_info": {
   "codemirror_mode": {
    "name": "ipython",
    "version": 3
   },
   "file_extension": ".py",
   "mimetype": "text/x-python",
   "name": "python",
   "nbconvert_exporter": "python",
   "pygments_lexer": "ipython3",
   "version": "3.12.7"
  }
 },
 "nbformat": 4,
 "nbformat_minor": 5
}
