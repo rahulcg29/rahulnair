{
 "cells": [
  {
   "cell_type": "code",
   "execution_count": 31,
   "id": "b4e69d0f-68fb-4c9c-b0de-d79e89dd2034",
   "metadata": {},
   "outputs": [
    {
     "name": "stdin",
     "output_type": "stream",
     "text": [
      "Enter the name: rahul\n",
      "Enter the code: 20105\n",
      "Enter the dept: cs\n",
      "Enter the salary: 15000\n"
     ]
    },
    {
     "name": "stdout",
     "output_type": "stream",
     "text": [
      "___EMPLOYEE SALARY DETAILS___\n",
      "DA= 6900.0\n",
      "HRA= 1800.0\n",
      "PF= 2250.0\n",
      "Tax= 1800.0\n",
      "Grosspay= 23700.0\n",
      "deduction= 4050.0\n",
      "netpay= 19650.0\n"
     ]
    }
   ],
   "source": [
    "###assignment\n",
    "Name=input(\"Enter the name:\")\n",
    "Empcode=int(input(\"Enter the code:\"))\n",
    "Empdept=input(\"Enter the dept:\")\n",
    "Basicpay=int(input(\"Enter the salary:\"))\n",
    "if Basicpay >=20000:\n",
    "        DA=Basicpay*0.585\n",
    "        HRA=Basicpay*0.15\n",
    "        PF=Basicpay*0.20\n",
    "        Tax=Basicpay*0.17\n",
    "elif Basicpay >=15000:\n",
    "         DA=Basicpay*0.46\n",
    "         HRA=Basicpay*0.12\n",
    "         PF=Basicpay*0.15\n",
    "         Tax=Basicpay*0.12\n",
    "else:\n",
    "         DA=Basicpay*0.425\n",
    "         HRA=1500\n",
    "         PF=Basicpay*0.10\n",
    "         Tax=Basicpay*0\n",
    "print(\"___EMPLOYEE SALARY DETAILS___\")\n",
    "print(\"DA=\",DA)\n",
    "print(\"HRA=\",HRA)\n",
    "print(\"PF=\",PF)\n",
    "print(\"Tax=\",Tax)\n",
    "Grosspay=Basicpay+DA+HRA\n",
    "print(\"Grosspay=\",Grosspay)\n",
    "deduction=PF+Tax\n",
    "print(\"deduction=\",deduction)\n",
    "netpay= (Grosspay-deduction) \n",
    "print(\"netpay=\",netpay)"
   ]
  },
  {
   "cell_type": "code",
   "execution_count": 49,
   "id": "e9d47835-b188-4784-b8b2-af729e8c949e",
   "metadata": {},
   "outputs": [
    {
     "name": "stdin",
     "output_type": "stream",
     "text": [
      "Enter the CusNo: 23105\n",
      "Enter the  previous reading: 200\n",
      "Enter the  current reading: 300\n",
      "Enter the Type(domestic/commercial): domestic\n"
     ]
    },
    {
     "name": "stdout",
     "output_type": "stream",
     "text": [
      "unit_amt: 100\n",
      "NO CHARGES\n"
     ]
    }
   ],
   "source": [
    "Consumer=int(input(\"Enter the CusNo:\"))\n",
    "Previous_reading=int(input(\"Enter the  previous reading:\"))\n",
    "Current_reading=int(input(\"Enter the  current reading:\"))\n",
    "connection_type=input(\"Enter the Type(domestic/commercial):\")\n",
    "unit_amt=(Current_reading-Previous_reading)\n",
    "print(\"unit_amt:\",unit_amt)\n",
    "if connection_type==\"domestic\":\n",
    "    if unit_amt <=100:\n",
    "        print(\"NO CHARGES\")\n",
    "    elif unit_amt>100 and unit_amt<=200:\n",
    "        print(\"charges:\",unit_amt*2.25)\n",
    "    elif (unit_amt>200 and unit_amt<=500):\n",
    "        print(\"charges:\",unit_amt*4.5)\n",
    "    else:\n",
    "        print(\"charges:\",unit_amt*6)\n",
    "\n",
    "elif connection_type==\"commercial\":\n",
    "    if unit_amt <100:\n",
    "        print(\"NO CHARGES\")\n",
    "    elif unit_amt>100 and unit_amt<=400:\n",
    "        print(\"charges:\",unit_amt*4.5)\n",
    "    elif (unit_amt>400 and unit_amt<=700):\n",
    "        print(\"charges:\",unit_amt*6)\n",
    "    elif (unit_amt>700 and unit_amt<=1000):\n",
    "        print(\"charges:\",unit_amt*9)\n",
    "else:\n",
    "    print(\"charges:\",unit_amt*10)\n",
    "                         "
   ]
  },
  {
   "cell_type": "code",
   "execution_count": 51,
   "id": "1152cccc-7e1a-4e90-9faa-913d81e1e6e8",
   "metadata": {},
   "outputs": [
    {
     "name": "stdin",
     "output_type": "stream",
     "text": [
      "Entr the value for A: 6\n",
      "Entr the value for B: 8\n",
      "Entr the value for C: 10\n"
     ]
    },
    {
     "name": "stdout",
     "output_type": "stream",
     "text": [
      "right angle triangle\n"
     ]
    }
   ],
   "source": [
    "A=int(input(\"Entr the value for A:\"))\n",
    "B=int(input(\"Entr the value for B:\"))\n",
    "C=int(input(\"Entr the value for C:\"))\n",
    "if A==B or B==C or C==A:\n",
    "    print(\"isosceles triangle\")\n",
    "elif A==B==C:\n",
    "    print(\"equivalatral triangle\")\n",
    "elif A*A+B*B==C*C or B*B+C*C==A*A or C*C+A*A==B*B:\n",
    "    print(\"right angle triangle\")\n",
    "else:\n",
    "    print(\"scaline triangle\")"
   ]
  },
  {
   "cell_type": "code",
   "execution_count": 73,
   "id": "af656cbc-657e-4366-8049-582e7e474a4b",
   "metadata": {},
   "outputs": [
    {
     "name": "stdout",
     "output_type": "stream",
     "text": [
      "101\n",
      "103\n",
      "107\n",
      "109\n",
      "113\n",
      "127\n",
      "131\n",
      "137\n",
      "139\n",
      "149\n",
      "151\n",
      "157\n",
      "163\n",
      "167\n",
      "173\n",
      "179\n",
      "181\n",
      "191\n",
      "193\n",
      "197\n",
      "199\n"
     ]
    }
   ],
   "source": [
    "for num in range(100,200):\n",
    "    for i in range(2,num):\n",
    "        if num % i==0:\n",
    "             break\n",
    "    else:\n",
    "         print(num)\n",
    "   "
   ]
  },
  {
   "cell_type": "code",
   "execution_count": 89,
   "id": "8a440698-49c7-4acb-a229-e291df3111c5",
   "metadata": {},
   "outputs": [
    {
     "name": "stdin",
     "output_type": "stream",
     "text": [
      "ENTER THE CODE: 100\n",
      "enter the role: GM\n"
     ]
    },
    {
     "name": "stdout",
     "output_type": "stream",
     "text": [
      "employee_no: 100 POSITION OF THE EMPLOYEE: GM\n",
      "currently working\n"
     ]
    }
   ],
   "source": [
    "code=[100,205,505,782,1000]\n",
    "employee_id=int(input(\"ENTER THE CODE:\"))\n",
    "if employee_id in code:\n",
    "    position=input(\"enter the role:\")\n",
    "    print(\"employee_no:\",employee_id,\"POSITION OF THE EMPLOYEE:\",position)\n",
    "    print(\"currently working\")\n",
    "else:\n",
    "    print(\"Sorry unavailable\")"
   ]
  },
  {
   "cell_type": "code",
   "execution_count": 111,
   "id": "e7e54b02-0921-4c08-922c-6dd972ffa6e0",
   "metadata": {},
   "outputs": [
    {
     "name": "stdout",
     "output_type": "stream",
     "text": [
      "[1, 0, 3]\n"
     ]
    }
   ],
   "source": [
    "def cm_to_m(cm):\n",
    "    return cm / 100\n",
    "heights_cm = []\n",
    "\n",
    "print(\"Enter the heights of 40 students in centimeters:\")\n",
    "for i in range(40):\n",
    "    height = float(input(f\"Enter height of student {i + 1}: \"))\n",
    "    heights_cm.append(height)\n",
    "heights_m = [cm_to_m(h) for h in heights_cm]\n",
    "\n",
    "heights_m.sort()\n",
    "print(\"\\nHeights of students in ascending order (in meters):\")\n",
    "for h in heights_m:\n",
    "    print(f\"{h:.2f} m\")\n",
    "print(f\"\\nShortest Height: {heights_m[0]:.2f} m\")\n",
    "print(f\"Tallest Height: {heights_m[-1]:.2f} m\")\n"
   ]
  },
  {
   "cell_type": "code",
   "execution_count": null,
   "id": "252d55f5-6aa7-4262-8992-a6a7fb93a5ba",
   "metadata": {},
   "outputs": [],
   "source": [
    "Height=[190,200,180,175,190]\n",
    "heights_m=[]\n",
    "for h in height_cm:\n",
    "    meter=h/100\n",
    "    heights_m.append(meter)\n",
    "heights_m.sort()\n",
    "print(\"the height in ascending order:\")\n",
    "for h in height_meters:\n",
    "    print(h)\n",
    "print(\"the shortest height:\"\n",
    "    "
   ]
  },
  {
   "cell_type": "code",
   "execution_count": null,
   "id": "0f4eff0e-fb06-4999-86a1-56b67de8eb79",
   "metadata": {},
   "outputs": [],
   "source": []
  }
 ],
 "metadata": {
  "kernelspec": {
   "display_name": "Python 3 (ipykernel)",
   "language": "python",
   "name": "python3"
  },
  "language_info": {
   "codemirror_mode": {
    "name": "ipython",
    "version": 3
   },
   "file_extension": ".py",
   "mimetype": "text/x-python",
   "name": "python",
   "nbconvert_exporter": "python",
   "pygments_lexer": "ipython3",
   "version": "3.12.7"
  }
 },
 "nbformat": 4,
 "nbformat_minor": 5
}
