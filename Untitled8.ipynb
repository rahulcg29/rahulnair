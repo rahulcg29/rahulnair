{
 "cells": [
  {
   "cell_type": "code",
   "execution_count": 1,
   "id": "64696f7d-258f-4146-a17c-cb08216e8a32",
   "metadata": {},
   "outputs": [
    {
     "name": "stdout",
     "output_type": "stream",
     "text": [
      "False\n"
     ]
    }
   ],
   "source": [
    "###testing and debugging\n",
    "\n",
    "x=lambda a:a%2==0\n",
    "print(x(5))"
   ]
  },
  {
   "cell_type": "code",
   "execution_count": 7,
   "id": "13880792-277d-41cd-b398-de18fd9fb1cb",
   "metadata": {},
   "outputs": [
    {
     "name": "stdin",
     "output_type": "stream",
     "text": [
      "number: 11\n"
     ]
    },
    {
     "name": "stdout",
     "output_type": "stream",
     "text": [
      "11\n"
     ]
    }
   ],
   "source": [
    "###assertion errors concept\n",
    "n=int(input(\"number:\"))\n",
    "assert(n>10)\n",
    "print(n)"
   ]
  },
  {
   "cell_type": "code",
   "execution_count": null,
   "id": "9695bd6b-461c-4860-a1b2-024fe134c90d",
   "metadata": {},
   "outputs": [],
   "source": [
    "assert<condition>\n",
    "assert<condition>,\"statement\""
   ]
  },
  {
   "cell_type": "code",
   "execution_count": 10,
   "id": "faeaba3d-b1ca-4ac4-826f-c38208e9b424",
   "metadata": {},
   "outputs": [
    {
     "name": "stdin",
     "output_type": "stream",
     "text": [
      "number: 11\n"
     ]
    },
    {
     "name": "stdout",
     "output_type": "stream",
     "text": [
      "11\n"
     ]
    }
   ],
   "source": [
    "n=int(input(\"number:\"))\n",
    "assert(n>10),\"the number will be greater than 10\"\n",
    "print(n)"
   ]
  },
  {
   "cell_type": "code",
   "execution_count": 14,
   "id": "32a14762-a19a-429e-8e7e-9c11a7422e63",
   "metadata": {},
   "outputs": [
    {
     "name": "stdin",
     "output_type": "stream",
     "text": [
      "enter the number: 4\n"
     ]
    },
    {
     "name": "stdout",
     "output_type": "stream",
     "text": [
      "4\n"
     ]
    }
   ],
   "source": [
    "n=int(input(\"enter the number:\"))\n",
    "assert(n%2==0),\"the number must be positive\"\n",
    "print(n)\n"
   ]
  },
  {
   "cell_type": "code",
   "execution_count": 28,
   "id": "98072139-eccc-411f-81f6-5f14f1d8e199",
   "metadata": {},
   "outputs": [
    {
     "name": "stdin",
     "output_type": "stream",
     "text": [
      "enter your feedback: rahul\n",
      "enter your feedback: from cbe\n"
     ]
    },
    {
     "name": "stdout",
     "output_type": "stream",
     "text": [
      "rahulfrom cbe\n"
     ]
    }
   ],
   "source": [
    "a=input(\"enter your feedback:\")\n",
    "b=input(\"enter your feedback:\")\n",
    "print(a+b)"
   ]
  },
  {
   "cell_type": "code",
   "execution_count": 35,
   "id": "737dca2f-bca4-4cea-98e0-c5b62850c881",
   "metadata": {},
   "outputs": [
    {
     "data": {
      "text/plain": [
       "['.anaconda',\n",
       " '.conda',\n",
       " '.condarc',\n",
       " '.continuum',\n",
       " '.ipynb_checkpoints',\n",
       " '.ipython',\n",
       " '.jupyter',\n",
       " '.matplotlib',\n",
       " '.spyder-py3',\n",
       " '.vscode',\n",
       " '21052025.ipynb',\n",
       " '22052025.ipynb',\n",
       " '23052025.ipynb',\n",
       " 'anaconda3',\n",
       " 'AppData',\n",
       " 'Application Data',\n",
       " 'assignment.py',\n",
       " 'Contacts',\n",
       " 'Cookies',\n",
       " 'Desktop',\n",
       " 'Documents',\n",
       " 'Downloads',\n",
       " 'Favorites',\n",
       " 'Jedi',\n",
       " 'Links',\n",
       " 'Local Settings',\n",
       " 'Music',\n",
       " 'My Documents',\n",
       " 'NetHood',\n",
       " 'NTUSER.DAT',\n",
       " 'ntuser.dat.LOG1',\n",
       " 'ntuser.dat.LOG2',\n",
       " 'NTUSER.DAT{2ad838bc-efea-11ee-a54d-000d3a94eaa1}.TM.blf',\n",
       " 'NTUSER.DAT{2ad838bc-efea-11ee-a54d-000d3a94eaa1}.TMContainer00000000000000000001.regtrans-ms',\n",
       " 'NTUSER.DAT{2ad838bc-efea-11ee-a54d-000d3a94eaa1}.TMContainer00000000000000000002.regtrans-ms',\n",
       " 'ntuser.ini',\n",
       " 'OneDrive',\n",
       " 'Pictures',\n",
       " 'PrintHood',\n",
       " 'python1.py',\n",
       " 'python1605.ipynb',\n",
       " 'rahu1905.ipynb',\n",
       " 'rahu2025.ipynb',\n",
       " 'rahul.ipynb',\n",
       " 'rahul2105.ipynb',\n",
       " 'Recent',\n",
       " 'Saved Games',\n",
       " 'Searches',\n",
       " 'SendTo',\n",
       " 'Start Menu',\n",
       " 'Templates',\n",
       " 'test_math_func.ipynb',\n",
       " 'test_math_func.py',\n",
       " 'Untitled.ipynb',\n",
       " 'Untitled1.ipynb',\n",
       " 'Untitled2.ipynb',\n",
       " 'Untitled3.ipynb',\n",
       " 'Untitled4.ipynb',\n",
       " 'Untitled5.ipynb',\n",
       " 'Untitled6.ipynb',\n",
       " 'Untitled7.ipynb',\n",
       " 'Untitled8.ipynb',\n",
       " 'Videos']"
      ]
     },
     "execution_count": 35,
     "metadata": {},
     "output_type": "execute_result"
    }
   ],
   "source": [
    "import os\n",
    "dir(os)\n",
    "os.getcwd()\n",
    "os.listdir()"
   ]
  },
  {
   "cell_type": "code",
   "execution_count": 44,
   "id": "62b283aa-f036-45f5-bcb9-65b083af2216",
   "metadata": {},
   "outputs": [
    {
     "name": "stdin",
     "output_type": "stream",
     "text": [
      "value: 10\n",
      "value: 20\n",
      "enter the operation(add/sub/mult/div): add\n"
     ]
    },
    {
     "name": "stdout",
     "output_type": "stream",
     "text": [
      "30\n"
     ]
    }
   ],
   "source": [
    "a=int(input(\"value:\"))\n",
    "b=int(input(\"value:\"))\n",
    "oper=input(\"enter the operation(add/sub/mult/div):\")\n",
    "if oper==\"add\":\n",
    "    print(a+b)\n",
    "elif oper==\"sub\":\n",
    "    print(a-b)\n",
    "elif oper==\"mult\":\n",
    "    print(a*b)\n",
    "elif oper==\"divi\":\n",
    "    print(a/b)\n",
    "else:\n",
    "    print(\"wrong\")"
   ]
  },
  {
   "cell_type": "code",
   "execution_count": null,
   "id": "02f13471-7ffc-4ff2-aad1-d6bfdc951457",
   "metadata": {},
   "outputs": [],
   "source": [
    "connection_type=input(\"Enter the Type(domestic/commercial):\")"
   ]
  }
 ],
 "metadata": {
  "kernelspec": {
   "display_name": "Python 3 (ipykernel)",
   "language": "python",
   "name": "python3"
  },
  "language_info": {
   "codemirror_mode": {
    "name": "ipython",
    "version": 3
   },
   "file_extension": ".py",
   "mimetype": "text/x-python",
   "name": "python",
   "nbconvert_exporter": "python",
   "pygments_lexer": "ipython3",
   "version": "3.12.7"
  }
 },
 "nbformat": 4,
 "nbformat_minor": 5
}
