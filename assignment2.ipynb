{
 "cells": [
  {
   "cell_type": "code",
   "execution_count": 11,
   "id": "1818a02f-996b-4168-b619-e1bf30504668",
   "metadata": {},
   "outputs": [
    {
     "name": "stdin",
     "output_type": "stream",
     "text": [
      "name: rahul\n",
      "age: 21\n",
      "credit(20000,15000): 14000\n"
     ]
    },
    {
     "name": "stdout",
     "output_type": "stream",
     "text": [
      "DA: 5950.0\n",
      "HRA: 1500\n",
      "PF: 1400.0\n",
      "TAX: 0.0\n",
      "GROSS_PAY: 21450.0\n",
      "DEDUCTION: 1400.0\n",
      "NET_PAY: 20050.0\n"
     ]
    }
   ],
   "source": [
    "###assignment 1\n",
    "emp_name=input(\"name:\")\n",
    "emp_age=int(input(\"age:\"))\n",
    "emp_salary=int(input(\"credit(20000,15000):\"))\n",
    "if emp_salary>=20000:\n",
    "    DA=emp_salary*0.585\n",
    "    HRA=emp_salary*0.15\n",
    "    PF=emp_salary*0.20\n",
    "    TAX=emp_salary*0.17\n",
    "elif emp_salary>=15000:\n",
    "    DA=emp_salary*0.46\n",
    "    HRA=emp_salary*0.12\n",
    "    PF=emp_salary*0.15\n",
    "    TAX=emp_salary*0.12\n",
    "else:\n",
    "    DA=emp_salary*0.425\n",
    "    HRA=1500\n",
    "    PF=emp_salary*0.10\n",
    "    TAX=emp_salary*0.00\n",
    "GROSS_PAY= emp_salary + DA+ HRA\n",
    "DEDUCTION= PF + TAX\n",
    "NET_PAY=GROSS_PAY-DEDUCTION\n",
    "print(\"DA:\",DA)\n",
    "print(\"HRA:\",HRA)\n",
    "print(\"PF:\",PF)\n",
    "print(\"TAX:\",TAX)\n",
    "print(\"GROSS_PAY:\",GROSS_PAY)\n",
    "print(\"DEDUCTION:\",DEDUCTION)\n",
    "print(\"NET_PAY:\",NET_PAY)"
   ]
  },
  {
   "cell_type": "code",
   "execution_count": 19,
   "id": "0aa7c19f-f224-48cb-8548-6a64348291e3",
   "metadata": {},
   "outputs": [
    {
     "name": "stdin",
     "output_type": "stream",
     "text": [
      "enter shape(cube,cuboid,sphere): cube\n",
      "enter_value: 5\n"
     ]
    },
    {
     "name": "stdout",
     "output_type": "stream",
     "text": [
      "125\n"
     ]
    }
   ],
   "source": [
    "###assignment 2\n",
    "import math\n",
    "shape=input(\"enter shape(cube,cuboid,sphere):\")\n",
    "if shape==\"cube\":\n",
    "    value=int(input(\"enter_value:\"))\n",
    "    print(value**3)\n",
    "elif shape==\"sphere\":\n",
    "    value=int(input(\"enter_value:\"))\n",
    "    print(value*4/3)\n",
    "elif shape==\"cuboid\":\n",
    "    H=int(input(\"H_value:\"))\n",
    "    L=int(input(\"L_value:\"))\n",
    "    W=int(input(\"W_value:\"))\n",
    "    Volume=H*L*W\n",
    "    print(\"Volume:\",Volume)\n",
    "else:\n",
    "    print(\"unknown shape\")\n",
    "    \n"
   ]
  },
  {
   "cell_type": "code",
   "execution_count": 46,
   "id": "a4394c5b-f04d-4673-949d-9942fe9d3339",
   "metadata": {},
   "outputs": [
    {
     "name": "stdout",
     "output_type": "stream",
     "text": [
      "5\n",
      "4\n",
      "3\n",
      "2\n",
      "1\n",
      "0\n"
     ]
    }
   ],
   "source": [
    "###Assignment 3\n",
    "def add(n):\n",
    "    if(n==0):### base class used to stop the infinite loop\n",
    "        return 0\n",
    "    print(n)\n",
    "    return add(n-1)###used to recursive the function\n",
    "print(add(5))\n",
    "    "
   ]
  },
  {
   "cell_type": "code",
   "execution_count": 56,
   "id": "3a1eec31-f35e-40c3-a0ff-68bbfe6df751",
   "metadata": {},
   "outputs": [
    {
     "name": "stdout",
     "output_type": "stream",
     "text": [
      "1\n",
      "2\n",
      "3\n",
      "4\n",
      "5\n",
      "6\n",
      "7\n",
      "8\n",
      "9\n",
      "10\n",
      "11\n",
      "12\n",
      "13\n",
      "14\n",
      "15\n",
      "16\n",
      "17\n",
      "18\n",
      "19\n",
      "20\n",
      "21\n",
      "22\n",
      "23\n",
      "24\n",
      "25\n",
      "26\n",
      "27\n",
      "28\n",
      "29\n",
      "30\n",
      "31\n",
      "32\n",
      "33\n",
      "34\n",
      "35\n",
      "36\n",
      "37\n",
      "38\n",
      "39\n",
      "40\n",
      "41\n",
      "42\n",
      "43\n",
      "44\n",
      "45\n",
      "46\n",
      "47\n",
      "48\n",
      "49\n",
      "50\n",
      "51\n",
      "52\n",
      "53\n",
      "54\n",
      "55\n",
      "56\n",
      "57\n",
      "58\n",
      "59\n",
      "60\n",
      "61\n",
      "62\n",
      "63\n",
      "64\n",
      "65\n",
      "66\n",
      "67\n",
      "68\n",
      "69\n",
      "70\n",
      "71\n",
      "72\n",
      "73\n",
      "74\n",
      "75\n",
      "76\n",
      "77\n",
      "78\n",
      "79\n",
      "80\n",
      "81\n",
      "82\n",
      "83\n",
      "84\n",
      "85\n",
      "86\n",
      "87\n",
      "88\n",
      "89\n",
      "90\n",
      "91\n",
      "92\n",
      "93\n",
      "94\n",
      "95\n",
      "96\n",
      "97\n",
      "98\n",
      "99\n",
      "100\n"
     ]
    }
   ],
   "source": [
    "####assignment 4 \n",
    "def bill(n):\n",
    "    if(n==100):\n",
    "        return 100\n",
    "    print(n)\n",
    "    return bill(n+1)\n",
    "print(bill(1))"
   ]
  },
  {
   "cell_type": "code",
   "execution_count": 71,
   "id": "a5c3c392-1cec-42e8-ab04-82fdc4c579db",
   "metadata": {},
   "outputs": [
    {
     "name": "stdin",
     "output_type": "stream",
     "text": [
      "enter person_name: cravin\n",
      "enter person_age(1,100): 101\n"
     ]
    },
    {
     "name": "stdout",
     "output_type": "stream",
     "text": [
      "govindaaa\n",
      "updated\n"
     ]
    }
   ],
   "source": [
    "###assignment 5\n",
    "def person():\n",
    "    try:\n",
    "        name=input(\"enter person_name:\")\n",
    "        age=int(input(\"enter person_age(1,100):\"))\n",
    "        if age<100:\n",
    "            print(\"living\")\n",
    "        else:\n",
    "            print(\"govindaaa\")\n",
    "    except Exception as e:\n",
    "        print(\"Exception\",e)\n",
    "    except ValueError as e:\n",
    "        print(\"ValueError\",e)\n",
    "    finally:\n",
    "        print(\"updated\")\n",
    "person()"
   ]
  },
  {
   "cell_type": "code",
   "execution_count": 108,
   "id": "5994b336-a6c3-4802-968d-ec6fce60baaf",
   "metadata": {},
   "outputs": [
    {
     "name": "stdin",
     "output_type": "stream",
     "text": [
      "num: 5\n",
      "operations(add/sub/mult/div): add\n"
     ]
    },
    {
     "name": "stdout",
     "output_type": "stream",
     "text": [
      "5\n",
      "updated\n"
     ]
    }
   ],
   "source": [
    "###asssignment 6\n",
    "try:\n",
    "    a=int(input(\"num:\"))\n",
    "    b=int(input(\"num:\"))\n",
    "    operations=input(\"operations(add/sub/mult/div):\")\n",
    "    if operations==\"add\":\n",
    "        print(a+b)\n",
    "    elif operations==\"sub\":\n",
    "        print(a-b)\n",
    "    elif operations==\"mult\":\n",
    "        print(a*b)\n",
    "    elif operations==\"div\":\n",
    "        print(a/b)\n",
    "    else:\n",
    "        print(\"wrong input\")\n",
    "except Exception as e:\n",
    "    print(\"Exception\",e)\n",
    "except ZeroDivisionError as e:\n",
    "    print(\"ZeroDivisionError\",e)\n",
    "finally:\n",
    "    print(\"updated\")\n"
   ]
  },
  {
   "cell_type": "code",
   "execution_count": 138,
   "id": "4ffddd08-8edc-47dc-ba3b-071a96b603e5",
   "metadata": {},
   "outputs": [
    {
     "data": {
      "text/plain": [
       "['22052025.ipynb',\n",
       " 'arjun',\n",
       " 'fruits.txt',\n",
       " 'gopi',\n",
       " 'rahul',\n",
       " 'story book',\n",
       " 'story_book',\n",
       " 'tail book']"
      ]
     },
     "execution_count": 138,
     "metadata": {},
     "output_type": "execute_result"
    }
   ],
   "source": [
    "###assignment 7\n",
    "import os\n",
    "os.getcwd()\n",
    "os.chdir(\"C:/python\")\n",
    "os.listdir()\n"
   ]
  },
  {
   "cell_type": "code",
   "execution_count": 146,
   "id": "f9088649-bfaa-4425-bf50-79551231f033",
   "metadata": {},
   "outputs": [
    {
     "data": {
      "text/plain": [
       "['22052025.ipynb',\n",
       " 'arjun',\n",
       " 'country',\n",
       " 'fruits.txt',\n",
       " 'gopi',\n",
       " 'rahul',\n",
       " 'story book',\n",
       " 'story_book',\n",
       " 'tail book']"
      ]
     },
     "execution_count": 146,
     "metadata": {},
     "output_type": "execute_result"
    }
   ],
   "source": [
    "import os\n",
    "os.getcwd()\n",
    "os.listdir()\n"
   ]
  },
  {
   "cell_type": "code",
   "execution_count": null,
   "id": "1ea0b8d4-ce06-45b2-9563-2c28c8430c4c",
   "metadata": {},
   "outputs": [],
   "source": []
  }
 ],
 "metadata": {
  "kernelspec": {
   "display_name": "Python 3 (ipykernel)",
   "language": "python",
   "name": "python3"
  },
  "language_info": {
   "codemirror_mode": {
    "name": "ipython",
    "version": 3
   },
   "file_extension": ".py",
   "mimetype": "text/x-python",
   "name": "python",
   "nbconvert_exporter": "python",
   "pygments_lexer": "ipython3",
   "version": "3.12.7"
  }
 },
 "nbformat": 4,
 "nbformat_minor": 5
}
