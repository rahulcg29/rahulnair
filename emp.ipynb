{
 "cells": [
  {
   "cell_type": "code",
   "execution_count": 1,
   "id": "abad3d07-f449-416d-97ee-cfd7a1c9e24a",
   "metadata": {},
   "outputs": [],
   "source": [
    "import pandas as ap\n"
   ]
  },
  {
   "cell_type": "code",
   "execution_count": 7,
   "id": "71141286-f5eb-4f11-b520-d3c795aa8193",
   "metadata": {},
   "outputs": [],
   "source": [
    "emp={'emp_id':[101,102,103,104],'First_name':[\"rahul\",\"cravin\",\"dharani\",\"satish\"],'last_name':[\"krishnan\",\"sanjay\",\"dharan\",\"kumar\"],'salary':[75000,75000,70000,70000],'email_id':[\"john.doe@example.com\",\"ane.smith@example.com\",\"michael.brown@example.com\",\"lisa.white@example.com\"]}\n",
    "people=ap.DataFrame(emp)\n"
   ]
  },
  {
   "cell_type": "code",
   "execution_count": 8,
   "id": "948da4c5-51c0-4df3-bc45-a27b57b3448d",
   "metadata": {
    "scrolled": true
   },
   "outputs": [
    {
     "data": {
      "text/html": [
       "<div>\n",
       "<style scoped>\n",
       "    .dataframe tbody tr th:only-of-type {\n",
       "        vertical-align: middle;\n",
       "    }\n",
       "\n",
       "    .dataframe tbody tr th {\n",
       "        vertical-align: top;\n",
       "    }\n",
       "\n",
       "    .dataframe thead th {\n",
       "        text-align: right;\n",
       "    }\n",
       "</style>\n",
       "<table border=\"1\" class=\"dataframe\">\n",
       "  <thead>\n",
       "    <tr style=\"text-align: right;\">\n",
       "      <th></th>\n",
       "      <th>emp_id</th>\n",
       "      <th>First_name</th>\n",
       "      <th>last_name</th>\n",
       "      <th>salary</th>\n",
       "      <th>email_id</th>\n",
       "    </tr>\n",
       "  </thead>\n",
       "  <tbody>\n",
       "    <tr>\n",
       "      <th>0</th>\n",
       "      <td>101</td>\n",
       "      <td>rahul</td>\n",
       "      <td>krishnan</td>\n",
       "      <td>75000</td>\n",
       "      <td>john.doe@example.com</td>\n",
       "    </tr>\n",
       "    <tr>\n",
       "      <th>1</th>\n",
       "      <td>102</td>\n",
       "      <td>cravin</td>\n",
       "      <td>sanjay</td>\n",
       "      <td>75000</td>\n",
       "      <td>ane.smith@example.com</td>\n",
       "    </tr>\n",
       "    <tr>\n",
       "      <th>2</th>\n",
       "      <td>103</td>\n",
       "      <td>dharani</td>\n",
       "      <td>dharan</td>\n",
       "      <td>70000</td>\n",
       "      <td>michael.brown@example.com</td>\n",
       "    </tr>\n",
       "    <tr>\n",
       "      <th>3</th>\n",
       "      <td>104</td>\n",
       "      <td>satish</td>\n",
       "      <td>kumar</td>\n",
       "      <td>70000</td>\n",
       "      <td>lisa.white@example.com</td>\n",
       "    </tr>\n",
       "  </tbody>\n",
       "</table>\n",
       "</div>"
      ],
      "text/plain": [
       "   emp_id First_name last_name  salary                   email_id\n",
       "0     101      rahul  krishnan   75000       john.doe@example.com\n",
       "1     102     cravin    sanjay   75000      ane.smith@example.com\n",
       "2     103    dharani    dharan   70000  michael.brown@example.com\n",
       "3     104     satish     kumar   70000     lisa.white@example.com"
      ]
     },
     "execution_count": 8,
     "metadata": {},
     "output_type": "execute_result"
    }
   ],
   "source": [
    "people.head()"
   ]
  },
  {
   "cell_type": "code",
   "execution_count": 77,
   "id": "1409cc0d-09ca-4137-9be5-18d7de5605b8",
   "metadata": {},
   "outputs": [
    {
     "name": "stdout",
     "output_type": "stream",
     "text": [
      "   Unnamed: 0  emp_id First_name last_name  salary                   email_id\n",
      "0         NaN     101      rahul  krishnan   75000       john.doe@example.com\n",
      "1         NaN     102     cravin    sanjay   75000      ane.smith@example.com\n",
      "2         NaN     103    dharani    dharan   70000  michael.brown@example.com\n",
      "3         NaN     104     satish     kumar   70000     lisa.white@example.com\n"
     ]
    }
   ],
   "source": [
    "details=ap.read_csv(\"C:/python/country/capital/empp.csv\")\n",
    "print(details)"
   ]
  },
  {
   "cell_type": "code",
   "execution_count": 82,
   "id": "16dfcc90-c287-4814-aad0-f1740ce8a18a",
   "metadata": {},
   "outputs": [
    {
     "data": {
      "text/html": [
       "<div>\n",
       "<style scoped>\n",
       "    .dataframe tbody tr th:only-of-type {\n",
       "        vertical-align: middle;\n",
       "    }\n",
       "\n",
       "    .dataframe tbody tr th {\n",
       "        vertical-align: top;\n",
       "    }\n",
       "\n",
       "    .dataframe thead th {\n",
       "        text-align: right;\n",
       "    }\n",
       "</style>\n",
       "<table border=\"1\" class=\"dataframe\">\n",
       "  <thead>\n",
       "    <tr style=\"text-align: right;\">\n",
       "      <th></th>\n",
       "      <th>Unnamed: 0</th>\n",
       "      <th>emp_id</th>\n",
       "      <th>First_name</th>\n",
       "      <th>last_name</th>\n",
       "      <th>salary</th>\n",
       "      <th>email_id</th>\n",
       "    </tr>\n",
       "  </thead>\n",
       "  <tbody>\n",
       "    <tr>\n",
       "      <th>0</th>\n",
       "      <td>0</td>\n",
       "      <td>101</td>\n",
       "      <td>rahul</td>\n",
       "      <td>krishnan</td>\n",
       "      <td>75000</td>\n",
       "      <td>john.doe@example.com</td>\n",
       "    </tr>\n",
       "    <tr>\n",
       "      <th>1</th>\n",
       "      <td>0</td>\n",
       "      <td>102</td>\n",
       "      <td>cravin</td>\n",
       "      <td>sanjay</td>\n",
       "      <td>75000</td>\n",
       "      <td>ane.smith@example.com</td>\n",
       "    </tr>\n",
       "    <tr>\n",
       "      <th>2</th>\n",
       "      <td>0</td>\n",
       "      <td>103</td>\n",
       "      <td>dharani</td>\n",
       "      <td>dharan</td>\n",
       "      <td>70000</td>\n",
       "      <td>michael.brown@example.com</td>\n",
       "    </tr>\n",
       "    <tr>\n",
       "      <th>3</th>\n",
       "      <td>0</td>\n",
       "      <td>104</td>\n",
       "      <td>satish</td>\n",
       "      <td>kumar</td>\n",
       "      <td>70000</td>\n",
       "      <td>lisa.white@example.com</td>\n",
       "    </tr>\n",
       "  </tbody>\n",
       "</table>\n",
       "</div>"
      ],
      "text/plain": [
       "  Unnamed: 0 emp_id First_name last_name salary                   email_id\n",
       "0          0    101      rahul  krishnan  75000       john.doe@example.com\n",
       "1          0    102     cravin    sanjay  75000      ane.smith@example.com\n",
       "2          0    103    dharani    dharan  70000  michael.brown@example.com\n",
       "3          0    104     satish     kumar  70000     lisa.white@example.com"
      ]
     },
     "execution_count": 82,
     "metadata": {},
     "output_type": "execute_result"
    }
   ],
   "source": [
    "details.fillna(value=0,axis=1)"
   ]
  },
  {
   "cell_type": "code",
   "execution_count": 83,
   "id": "70a1fe27-aea5-4252-9284-c5490d599cd7",
   "metadata": {},
   "outputs": [],
   "source": [
    "import matplotlib.pyplot as plt\n",
    "import numpy as np\n",
    "import seaborn as sns\n",
    "\n"
   ]
  },
  {
   "cell_type": "code",
   "execution_count": 63,
   "id": "015d0c07-79a6-4a61-993d-44c5df3c7993",
   "metadata": {},
   "outputs": [
    {
     "data": {
      "image/png": "[encoded data removed]",
      "text/plain": [
       "<Figure size 1000x600 with 1 Axes>"
      ]
     },
     "metadata": {},
     "output_type": "display_data"
    }
   ],
   "source": [
    "plt.figure(figsize=(10, 6))\n",
    "plt.scatter(details['emp_id'],details['salary'], color='gold', alpha=0.7)\n",
    "plt.xlabel('Employee ID')\n",
    "plt.ylabel('Salary ($)')\n",
    "plt.title(\"EMP_ID & SALARY\")\n",
    "plt.show()"
   ]
  },
  {
   "cell_type": "code",
   "execution_count": null,
   "id": "7ca6a621-6732-4d84-bdaf-f13b045cbd47",
   "metadata": {},
   "outputs": [],
   "source": []
  }
 ],
 "metadata": {
  "kernelspec": {
   "display_name": "Python 3 (ipykernel)",
   "language": "python",
   "name": "python3"
  },
  "language_info": {
   "codemirror_mode": {
    "name": "ipython",
    "version": 3
   },
   "file_extension": ".py",
   "mimetype": "text/x-python",
   "name": "python",
   "nbconvert_exporter": "python",
   "pygments_lexer": "ipython3",
   "version": "3.12.7"
  }
 },
 "nbformat": 4,
 "nbformat_minor": 5
}
