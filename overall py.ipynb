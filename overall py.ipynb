{
 "cells": [
  {
   "cell_type": "code",
   "execution_count": 9,
   "id": "c67db8e4-5e3f-4fd4-a36d-b006b1fb949d",
   "metadata": {},
   "outputs": [
    {
     "name": "stdout",
     "output_type": "stream",
     "text": [
      "3\n",
      "9\n",
      "30\n",
      "[9, 10, 30]\n"
     ]
    }
   ],
   "source": [
    "\n",
    "a=(10,9,30)\n",
    "print(len(a))\n",
    "print(min(a))\n",
    "print(max(a))\n",
    "print(sorted(a))\n"
   ]
  },
  {
   "cell_type": "code",
   "execution_count": null,
   "id": "656c0400-14b1-4f23-8469-4f5a534da855",
   "metadata": {},
   "outputs": [],
   "source": []
  },
  {
   "cell_type": "code",
   "execution_count": null,
   "id": "d1f3124f-6242-46d9-a757-0e6e1b9116ac",
   "metadata": {},
   "outputs": [],
   "source": [
    "###variables and datatype\n",
    "V=int(input())\n",
    "c=float(input())\n",
    "z=input()\n",
    "K=bool(input())\n",
    "L=str(input())\n",
    "###opeartors\n",
    "+,-,*,/,**,==,//(ar oper)\n",
    "and , or ,not (con oper)\n",
    "###\n",
    "if,elif,else\n",
    "for i in range()\n",
    "while\n",
    "list=[]\n",
    "dict={}\n",
    "tuples=()\n",
    "###break->when the condition becomes true break statement \n",
    "###Continue->when the condition becomes false it will end the prove\n",
    "###pass\n",
    "def class():\n",
    "###fun with arg and rv\n",
    "func with0ut arg and rv\n",
    "###Func with arg but no rv\n",
    "###func without arg but rv\n",
    "###x=lambda a,b:a+b\n",
    "import math \n",
    "pow==power\n",
    "ceil==print large v\n",
    "floor==print smaller v\n",
    "fabs==print (-) -(+) v\n",
    "import os\n",
    "listdir\n",
    "getcwd\n",
    "listdir(getcwd)\n",
    "mkdir\n",
    "makesdir(/)\n",
    "chdir\n",
    "import sys\n",
    "Builtinmodule\n",
    "specification\n",
    "import random\n",
    "random.random\n",
    "random.shuffle\n",
    "from itertools import chain\n",
    "iter()=()\n",
    "import dateandtime\n",
    ".now\n",
    ".today\n",
    ".calendar\n",
    "class sub():\n",
    "    def class(self):\n",
    "try:\n",
    "except:\n",
    "    finally:\n",
    "import numpy\n",
    "shape\n",
    "size\n",
    "itemsize\n",
    "ndim\n",
    "nbytes\n",
    "array\n",
    "arange\n",
    "import pandas\n",
    ".DataFrame\n",
    ".Series\n",
    "import matplotlib.pyplot\n",
    ".scatter\n",
    ".bar\n",
    ".xlabel\n",
    ".ylabel\n",
    ".plot\n",
    ".show()\n",
    "assert(condition),\"sd\"\n",
    "import pytest \n",
    "from --fn-- import --f--\n",
    "code=pytest --fnsavd name--\n",
    "\n",
    "    \n"
   ]
  }
 ],
 "metadata": {
  "kernelspec": {
   "display_name": "Python 3 (ipykernel)",
   "language": "python",
   "name": "python3"
  },
  "language_info": {
   "codemirror_mode": {
    "name": "ipython",
    "version": 3
   },
   "file_extension": ".py",
   "mimetype": "text/x-python",
   "name": "python",
   "nbconvert_exporter": "python",
   "pygments_lexer": "ipython3",
   "version": "3.12.7"
  }
 },
 "nbformat": 4,
 "nbformat_minor": 5
}
