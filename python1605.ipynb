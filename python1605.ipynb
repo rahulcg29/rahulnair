{
 "cells": [
  {
   "cell_type": "code",
   "execution_count": 3,
   "id": "0458baf7-a677-43f9-8f3f-7eac1f919412",
   "metadata": {},
   "outputs": [
    {
     "name": "stdout",
     "output_type": "stream",
     "text": [
      "1\n",
      "2\n",
      "34\n",
      "56\n"
     ]
    }
   ],
   "source": [
    "###for loop concepts\n",
    "l=[1,2,34,56]\n",
    "for i in l:\n",
    "    print(i)"
   ]
  },
  {
   "cell_type": "code",
   "execution_count": 2,
   "id": "26597ee8-acf5-47a1-a5fa-62eced5a903d",
   "metadata": {},
   "outputs": [
    {
     "name": "stdout",
     "output_type": "stream",
     "text": [
      "l\n",
      "e\n",
      "t\n",
      "t\n",
      "e\n",
      "r\n",
      "s\n"
     ]
    }
   ],
   "source": [
    "l=\"letters\"\n",
    "for i in l:\n",
    "    print(i)"
   ]
  },
  {
   "cell_type": "code",
   "execution_count": 54,
   "id": "7159c50b-cc90-44d7-a47d-a6a7c8b5683f",
   "metadata": {},
   "outputs": [
    {
     "name": "stdout",
     "output_type": "stream",
     "text": [
      "[1, 34, 556]\n",
      "[1, 34, 556]\n",
      "[1, 34, 556]\n"
     ]
    }
   ],
   "source": [
    "mm=[1,34,556]\n",
    "for i in mm:\n",
    "  print(mm)"
   ]
  },
  {
   "cell_type": "code",
   "execution_count": 5,
   "id": "4cb27b81-67d2-4f5b-b27a-529fc169d6e6",
   "metadata": {},
   "outputs": [
    {
     "name": "stdout",
     "output_type": "stream",
     "text": [
      "<class 'str'>\n",
      "<class 'int'>\n"
     ]
    }
   ],
   "source": [
    "###conversional and casting\n",
    "a=(\"father\")\n",
    "print(type(a))\n",
    "b=(2)\n",
    "print(type(b))"
   ]
  },
  {
   "cell_type": "code",
   "execution_count": 13,
   "id": "6f724fb2-3de4-4fc3-aef2-df674dfb0d22",
   "metadata": {},
   "outputs": [
    {
     "name": "stdout",
     "output_type": "stream",
     "text": [
      "4.0\n",
      "<class 'float'>\n",
      "<class 'int'> 16\n"
     ]
    }
   ],
   "source": [
    "a=(4)\n",
    "print(float(a))\n",
    "print(type(float(a)))\n",
    "d=a**2\n",
    "print(type(d),d)"
   ]
  },
  {
   "cell_type": "code",
   "execution_count": 21,
   "id": "5052884c-3c49-4c93-8e87-baeebb6a7b75",
   "metadata": {},
   "outputs": [
    {
     "name": "stdout",
     "output_type": "stream",
     "text": [
      "[1, 2, 4, 4, 5, 6]\n",
      "[9, 2, 4, 4, 5, 6]\n",
      "[9, 2, 4, 4, 5, 6, 56]\n",
      "[]\n"
     ]
    }
   ],
   "source": [
    "###list,tuples,dictionary\n",
    "a=[1,2,3,4,5,6]\n",
    "a[2]=(4)\n",
    "print(a)\n",
    "a[0]=(9)\n",
    "print(a)\n",
    "a.append(56)\n",
    "print(a)\n",
    "a.clear()\n",
    "print(a)\n"
   ]
  },
  {
   "cell_type": "code",
   "execution_count": 23,
   "id": "a288967d-01a1-421d-bfff-5fa7f232463d",
   "metadata": {},
   "outputs": [
    {
     "name": "stdin",
     "output_type": "stream",
     "text": [
      "Enter the no: 5\n"
     ]
    },
    {
     "name": "stdout",
     "output_type": "stream",
     "text": [
      "positive\n"
     ]
    }
   ],
   "source": [
    "###practical codes\n",
    "num=int(input(\"Enter the no:\"))\n",
    "if num >0:\n",
    "    print(\"positive\")\n",
    "elif num < 0:\n",
    "     print(\"negative\")\n",
    "else:\n",
    "    print(\"zero\")"
   ]
  },
  {
   "cell_type": "code",
   "execution_count": 36,
   "id": "97fd0500-e1d5-454e-9fde-f9961265705b",
   "metadata": {},
   "outputs": [
    {
     "name": "stdin",
     "output_type": "stream",
     "text": [
      "enter the marks: 85\n"
     ]
    },
    {
     "name": "stdout",
     "output_type": "stream",
     "text": [
      "B\n"
     ]
    }
   ],
   "source": [
    "grade=int(input(\"enter the marks:\"))\n",
    "if grade>90:\n",
    "    print(\"A\")\n",
    "elif grade>=80 and grade<90:\n",
    "    print(\"B\")\n",
    "elif grade>=70 and grade<80:\n",
    "    print(\"C\")\n",
    "elif grade>=60 and grade<70:\n",
    "    print(\"D\")\n",
    "else:\n",
    "    print(\"E\")"
   ]
  },
  {
   "cell_type": "code",
   "execution_count": 39,
   "id": "ef663e1f-6b22-4435-96fc-8224bf89d663",
   "metadata": {},
   "outputs": [
    {
     "name": "stdin",
     "output_type": "stream",
     "text": [
      "no: 30\n"
     ]
    },
    {
     "name": "stdout",
     "output_type": "stream",
     "text": [
      "even\n",
      "the number is divisible by 5\n"
     ]
    }
   ],
   "source": [
    "a=int(input(\"no:\"))\n",
    "if a%2==0:\n",
    "    print(\"even\")\n",
    "if a%5==0:\n",
    "    print(\"the number is divisible by 5\")\n",
    "else:\n",
    "    print(\"odd\")"
   ]
  },
  {
   "cell_type": "code",
   "execution_count": 43,
   "id": "6aa80066-aff0-483b-a65c-7ff2e93b606c",
   "metadata": {},
   "outputs": [
    {
     "name": "stdin",
     "output_type": "stream",
     "text": [
      "enter the age: 90\n"
     ]
    },
    {
     "name": "stdout",
     "output_type": "stream",
     "text": [
      "senior\n"
     ]
    }
   ],
   "source": [
    "age=int(input(\"enter the age:\"))\n",
    "if age>=65:\n",
    "    print(\"senior\")\n",
    "elif age>=20:\n",
    "    print(\"adult\")\n",
    "elif age >=13 and age <=19:\n",
    "    print(\"teenage\")\n",
    "else:\n",
    "    print(\"child\")"
   ]
  },
  {
   "cell_type": "code",
   "execution_count": 46,
   "id": "c04a5cc5-e43c-43d6-b92b-5f4d0897110c",
   "metadata": {},
   "outputs": [
    {
     "name": "stdin",
     "output_type": "stream",
     "text": [
      "enter the name: arfa\n",
      "enter the weight: 79\n",
      "enter the height in meter: 1.75\n"
     ]
    },
    {
     "name": "stdout",
     "output_type": "stream",
     "text": [
      "obese\n"
     ]
    }
   ],
   "source": [
    "name=input(\"enter the name:\")\n",
    "weight=int(input(\"enter the weight:\" ))\n",
    "height=float(input(\"enter the height in meter:\"))\n",
    "bmi=weight/height\n",
    "if bmi >= 30:\n",
    "    print(\"obese\")\n",
    "elif  25 <= bmi < 29.9:\n",
    "    print(\"overweight\")\n",
    "elif 18.5 <= bmi < 24.9:    \n",
    "    print(\"normalweight\")\n",
    "else:\n",
    "    print(\"underweight\")\n",
    "    "
   ]
  },
  {
   "cell_type": "code",
   "execution_count": 49,
   "id": "d0f760eb-c505-4aed-a7a9-2bfdb280b709",
   "metadata": {},
   "outputs": [
    {
     "name": "stdin",
     "output_type": "stream",
     "text": [
      " 16\n"
     ]
    },
    {
     "name": "stdout",
     "output_type": "stream",
     "text": [
      "div by 2 and not div by 4\n"
     ]
    }
   ],
   "source": [
    "a=int(input())\n",
    "if a%2==0 or a%4!=0:\n",
    "    print(\"div by 2 and not div by 4\")\n",
    "else:\n",
    "    print(\"odd\")"
   ]
  },
  {
   "cell_type": "code",
   "execution_count": 64,
   "id": "214c8aa2-c08e-42f0-9a0f-59448c8bf497",
   "metadata": {},
   "outputs": [
    {
     "name": "stdin",
     "output_type": "stream",
     "text": [
      "enter year: 1900\n"
     ]
    },
    {
     "name": "stdout",
     "output_type": "stream",
     "text": [
      "wrong input\n"
     ]
    }
   ],
   "source": [
    "year=int(input(\"enter year:\"))\n",
    "if (year%4==0 and year%100!=0) or ( year%400==0):\n",
    "    print(\"leap year\")\n",
    "else:\n",
    "    print(\"wrong input\")\n",
    "    \n",
    "    "
   ]
  },
  {
   "cell_type": "code",
   "execution_count": 8,
   "id": "d8ab8e3e-8607-42fb-abc8-f9bd1752c480",
   "metadata": {},
   "outputs": [
    {
     "name": "stdout",
     "output_type": "stream",
     "text": [
      "[1, 23, 77, 55]\n"
     ]
    }
   ],
   "source": [
    "###list,tuples,dict\n",
    "###list to exchange element values\n",
    "a=[1,23,44,55]\n",
    "a[2]=(77)\n",
    "print(a)"
   ]
  },
  {
   "cell_type": "code",
   "execution_count": 9,
   "id": "8580d0a8-c2f1-4fc7-87c8-686f351dfe01",
   "metadata": {},
   "outputs": [
    {
     "name": "stdout",
     "output_type": "stream",
     "text": [
      "[]\n"
     ]
    }
   ],
   "source": [
    "### list to clear all elements\n",
    "a=[1,23,44,55]\n",
    "a.clear()\n",
    "print(a)"
   ]
  },
  {
   "cell_type": "code",
   "execution_count": 12,
   "id": "c4d7a11d-d8b9-43dd-a0cf-66a2b21e9b98",
   "metadata": {},
   "outputs": [
    {
     "name": "stdout",
     "output_type": "stream",
     "text": [
      "[1, 23, 44, 55, 21]\n"
     ]
    }
   ],
   "source": [
    "### list to add new element value\n",
    "a=[1,23,44,55]\n",
    "a.append(21)\n",
    "print(a)"
   ]
  },
  {
   "cell_type": "code",
   "execution_count": 40,
   "id": "5198360e-cfe2-4681-914f-83ed5153eb86",
   "metadata": {},
   "outputs": [
    {
     "name": "stdout",
     "output_type": "stream",
     "text": [
      "1\n",
      "2\n",
      "3\n",
      "4\n",
      "5\n",
      "6\n",
      "7\n",
      "8\n",
      "9\n",
      "10\n",
      "11\n",
      "12\n",
      "13\n",
      "14\n",
      "15\n",
      "16\n",
      "17\n",
      "18\n",
      "19\n",
      "20\n",
      "21\n",
      "22\n",
      "23\n",
      "24\n",
      "25\n",
      "26\n",
      "27\n",
      "28\n",
      "29\n",
      "30\n",
      "31\n",
      "32\n",
      "33\n",
      "34\n",
      "35\n",
      "36\n",
      "37\n",
      "38\n",
      "39\n",
      "40\n",
      "41\n",
      "42\n",
      "43\n",
      "44\n",
      "45\n",
      "46\n",
      "47\n",
      "48\n",
      "49\n",
      "50\n",
      "51\n",
      "52\n",
      "53\n",
      "54\n",
      "55\n",
      "56\n",
      "57\n",
      "58\n",
      "59\n",
      "60\n",
      "61\n",
      "62\n",
      "63\n",
      "64\n",
      "65\n",
      "66\n",
      "67\n",
      "68\n",
      "69\n",
      "70\n",
      "71\n",
      "72\n",
      "73\n",
      "74\n",
      "75\n",
      "76\n",
      "77\n",
      "78\n",
      "79\n",
      "80\n",
      "81\n",
      "82\n",
      "83\n",
      "84\n",
      "85\n",
      "86\n",
      "87\n",
      "88\n",
      "89\n",
      "90\n",
      "91\n",
      "92\n",
      "93\n",
      "94\n",
      "95\n",
      "96\n",
      "97\n",
      "98\n",
      "99\n",
      "100\n"
     ]
    }
   ],
   "source": [
    "for i in range(1,101):\n",
    "    print(i)"
   ]
  },
  {
   "cell_type": "code",
   "execution_count": 50,
   "id": "8d446f18-5d26-46b4-88e2-b2f43356937f",
   "metadata": {},
   "outputs": [
    {
     "name": "stdout",
     "output_type": "stream",
     "text": [
      "0\n",
      "2\n",
      "4\n",
      "6\n",
      "8\n"
     ]
    }
   ],
   "source": [
    "for i in range(0,10,2):\n",
    "   print(i)"
   ]
  },
  {
   "cell_type": "code",
   "execution_count": 55,
   "id": "6ce7e20f-dd5d-4f42-bad8-1d9af0475eb7",
   "metadata": {},
   "outputs": [
    {
     "name": "stdout",
     "output_type": "stream",
     "text": [
      "0\n",
      "2\n",
      "4\n",
      "6\n",
      "8\n",
      "10\n",
      "12\n",
      "14\n",
      "16\n",
      "18\n",
      "20\n"
     ]
    }
   ],
   "source": [
    "for i in range(0,21,2):\n",
    "    print(i)"
   ]
  },
  {
   "cell_type": "code",
   "execution_count": 57,
   "id": "a23505e9-9f6b-4c25-85f5-79afad6a4799",
   "metadata": {},
   "outputs": [
    {
     "name": "stdout",
     "output_type": "stream",
     "text": [
      "hello\n"
     ]
    }
   ],
   "source": [
    "for i in range(1):\n",
    "    print(\"hello\")"
   ]
  },
  {
   "cell_type": "code",
   "execution_count": 107,
   "id": "cfde5d76-08f1-4b35-bef6-55de21e3664a",
   "metadata": {},
   "outputs": [
    {
     "name": "stdout",
     "output_type": "stream",
     "text": [
      "o\n",
      "l\n",
      "l\n",
      "e\n",
      "h\n"
     ]
    }
   ],
   "source": [
    "a=(\"hello\")\n",
    "for i in reversed(a):\n",
    "     print(i)"
   ]
  },
  {
   "cell_type": "code",
   "execution_count": 19,
   "id": "a0da6e92-dec4-4c45-9709-0372adb67776",
   "metadata": {},
   "outputs": [
    {
     "name": "stdout",
     "output_type": "stream",
     "text": [
      "0\n",
      "1\n",
      "2\n",
      "3\n",
      "4\n",
      "6\n",
      "7\n",
      "8\n",
      "9\n",
      "10\n"
     ]
    }
   ],
   "source": [
    "for i in range(11):\n",
    "    if i  == 5:\n",
    "        continue\n",
    "    print(i)\n"
   ]
  },
  {
   "cell_type": "code",
   "execution_count": 59,
   "id": "f20649de-06c7-4808-87b8-6b66d670da25",
   "metadata": {},
   "outputs": [
    {
     "name": "stdout",
     "output_type": "stream",
     "text": [
      "2\n",
      "4\n",
      "6\n",
      "8\n"
     ]
    }
   ],
   "source": [
    "for i in range(10):\n",
    "    if (i%3==0 and i%5==0) or i%2!=0:\n",
    "       continue\n",
    "    print(i)"
   ]
  },
  {
   "cell_type": "code",
   "execution_count": 44,
   "id": "78b97660-e51b-4fb6-90ad-6a79ca000f5a",
   "metadata": {},
   "outputs": [
    {
     "name": "stdout",
     "output_type": "stream",
     "text": [
      "[1, 23, 55]\n"
     ]
    }
   ],
   "source": [
    "a=[1,23,44]\n",
    "a[2]=(55)\n",
    "print(a)"
   ]
  },
  {
   "cell_type": "code",
   "execution_count": 66,
   "id": "8a93ffff-473f-4444-b7f7-7ee0d695dda2",
   "metadata": {},
   "outputs": [
    {
     "name": "stdout",
     "output_type": "stream",
     "text": [
      "56\n"
     ]
    }
   ],
   "source": [
    "a={(\"rahul\"):56,(\"arjun\"):90}\n",
    "print(a[(\"rahul\")])"
   ]
  },
  {
   "cell_type": "code",
   "execution_count": 69,
   "id": "28c45ec8-fbad-422b-b8a4-7ed4ba4876ab",
   "metadata": {},
   "outputs": [
    {
     "name": "stdout",
     "output_type": "stream",
     "text": [
      "{1, 2, 3, 9, 10}\n"
     ]
    }
   ],
   "source": [
    "a={1,2,3}\n",
    "b={9,10}\n",
    "print(a|b)"
   ]
  },
  {
   "cell_type": "code",
   "execution_count": 74,
   "id": "476c6358-ea25-40c5-84a8-5cc5140b9081",
   "metadata": {},
   "outputs": [
    {
     "ename": "SyntaxError",
     "evalue": "incomplete input (1915401553.py, line 2)",
     "output_type": "error",
     "traceback": [
      "\u001b[1;36m  Cell \u001b[1;32mIn[74], line 2\u001b[1;36m\u001b[0m\n\u001b[1;33m    print((a,\"rahul\")\u001b[0m\n\u001b[1;37m                     ^\u001b[0m\n\u001b[1;31mSyntaxError\u001b[0m\u001b[1;31m:\u001b[0m incomplete input\n"
     ]
    }
   ],
   "source": [
    "a={(\"rahul\"):56,(\"cravin\"):90}\n",
    "print((a,\"rahul\")"
   ]
  },
  {
   "cell_type": "code",
   "execution_count": 79,
   "id": "39d85c50-51c3-4040-a1c0-0eda525707f8",
   "metadata": {},
   "outputs": [
    {
     "name": "stdout",
     "output_type": "stream",
     "text": [
      "welcome msccs\n"
     ]
    }
   ],
   "source": [
    "def sub(marks"
   ]
  },
  {
   "cell_type": "code",
   "execution_count": null,
   "id": "104cd137-453a-4799-8f55-36cf24e6d736",
   "metadata": {},
   "outputs": [],
   "source": []
  }
 ],
 "metadata": {
  "kernelspec": {
   "display_name": "Python 3 (ipykernel)",
   "language": "python",
   "name": "python3"
  },
  "language_info": {
   "codemirror_mode": {
    "name": "ipython",
    "version": 3
   },
   "file_extension": ".py",
   "mimetype": "text/x-python",
   "name": "python",
   "nbconvert_exporter": "python",
   "pygments_lexer": "ipython3",
   "version": "3.12.7"
  }
 },
 "nbformat": 4,
 "nbformat_minor": 5
}
