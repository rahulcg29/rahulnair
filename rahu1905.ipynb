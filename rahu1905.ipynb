{
 "cells": [
  {
   "cell_type": "code",
   "execution_count": 4,
   "id": "bee49498-063d-4dab-a1fd-70fb644b39cb",
   "metadata": {},
   "outputs": [
    {
     "name": "stdin",
     "output_type": "stream",
     "text": [
      "value: 5\n",
      "value: 10\n"
     ]
    },
    {
     "name": "stdout",
     "output_type": "stream",
     "text": [
      "50\n"
     ]
    }
   ],
   "source": [
    "def mul():\n",
    "    a=int(input(\"value:\"))\n",
    "    b=int(input(\"value:\"))\n",
    "    return a*b\n",
    "print(mul())"
   ]
  },
  {
   "cell_type": "code",
   "execution_count": 115,
   "id": "64ce33c9-22f5-4d24-8d33-0623c6c1ef05",
   "metadata": {},
   "outputs": [
    {
     "name": "stdin",
     "output_type": "stream",
     "text": [
      "value: 10\n",
      "value: 20\n"
     ]
    },
    {
     "name": "stdout",
     "output_type": "stream",
     "text": [
      "30\n"
     ]
    }
   ],
   "source": [
    "def add(a,b):\n",
    "    return(a+b)\n",
    "a=int(input(\"value:\"))\n",
    "b=int(input(\"value:\"))\n",
    "cravin=add(10,20)\n",
    "print(cravin)"
   ]
  },
  {
   "cell_type": "code",
   "execution_count": 41,
   "id": "f4069659-e870-4f1e-80aa-4af490b7f09a",
   "metadata": {},
   "outputs": [],
   "source": [
    "div5=[]\n",
    "div7=[]\n",
    "div5_7=[]\n",
    "for i in range(1,50):\n",
    "    if i%5==0:\n",
    "     div5.append(i)\n",
    "    elif i%7==0:\n",
    "     div7.append(i)\n",
    "    elif i%5==0 and i%7==0:\n",
    "     div5_7.append(i)"
   ]
  },
  {
   "cell_type": "code",
   "execution_count": 50,
   "id": "890379ed-d30a-4d0f-a56a-a9a343ca3f94",
   "metadata": {},
   "outputs": [
    {
     "name": "stdin",
     "output_type": "stream",
     "text": [
      "enter value: 5\n"
     ]
    },
    {
     "name": "stdout",
     "output_type": "stream",
     "text": [
      "odd\n",
      "5\n"
     ]
    }
   ],
   "source": [
    "def even():\n",
    "    num=int(input(\"enter value:\"))\n",
    "    if num%2==0:\n",
    "        print(\"even\")\n",
    "    else:\n",
    "        print(\"odd\")\n",
    "    return(num)\n",
    "print(even())"
   ]
  },
  {
   "cell_type": "code",
   "execution_count": 55,
   "id": "cf8602d9-1aa6-4ae2-be6d-f1b34a6097db",
   "metadata": {},
   "outputs": [
    {
     "name": "stdin",
     "output_type": "stream",
     "text": [
      "value: 60\n"
     ]
    },
    {
     "name": "stdout",
     "output_type": "stream",
     "text": [
      "name:\n"
     ]
    }
   ],
   "source": [
    "dept=[]\n",
    "marks=[]\n",
    "score=int(input(\"value:\"))\n",
    "if score > 50:\n",
    "    dept.append(score)\n",
    "    marks.append(score)\n",
    "else:\n",
    "    print(\"better luck\")\n",
    "    "
   ]
  },
  {
   "cell_type": "code",
   "execution_count": 113,
   "id": "4ae52773-b355-4e07-a850-1e971ea03e00",
   "metadata": {},
   "outputs": [
    {
     "name": "stdout",
     "output_type": "stream",
     "text": [
      "rahul\n",
      "<function name at 0x000001B1376E0C20>\n"
     ]
    }
   ],
   "source": [
    "def name():\n",
    "    print(\"rahul\")\n",
    "return_value=name()\n",
    "print(name)\n",
    "    \n",
    "    \n",
    "    "
   ]
  },
  {
   "cell_type": "code",
   "execution_count": 131,
   "id": "17840e6e-5909-421e-9cbf-010331b006d9",
   "metadata": {},
   "outputs": [
    {
     "name": "stdin",
     "output_type": "stream",
     "text": [
      " 10\n",
      " 20\n"
     ]
    },
    {
     "name": "stdout",
     "output_type": "stream",
     "text": [
      "None\n"
     ]
    }
   ],
   "source": [
    "def add():\n",
    "    a=int(input())\n",
    "    b=int(input())\n",
    "sub=add()\n",
    "print(sub)"
   ]
  },
  {
   "cell_type": "code",
   "execution_count": 152,
   "id": "d2137296-6a00-4293-bfab-77ce64c2ffb4",
   "metadata": {},
   "outputs": [
    {
     "name": "stdout",
     "output_type": "stream",
     "text": [
      "30\n"
     ]
    }
   ],
   "source": [
    "def add(a,b):\n",
    "    return a+b\n",
    "print(add(10,20))    "
   ]
  },
  {
   "cell_type": "code",
   "execution_count": 174,
   "id": "65955781-d943-4a10-b70f-be1bc1e12ac3",
   "metadata": {},
   "outputs": [
    {
     "name": "stdout",
     "output_type": "stream",
     "text": [
      "hello world\n"
     ]
    }
   ],
   "source": [
    "###function with no arg and return value\n",
    "def rahul():\n",
    "    print(\"hello world\")\n",
    "rahul()"
   ]
  },
  {
   "cell_type": "code",
   "execution_count": 175,
   "id": "134f8e6e-11ca-49f8-887f-e47dc9e531d8",
   "metadata": {},
   "outputs": [
    {
     "name": "stdout",
     "output_type": "stream",
     "text": [
      "30\n",
      "None\n"
     ]
    }
   ],
   "source": [
    "###func with arg but no rv\n",
    "def rahul(a,b):\n",
    "    print(a+b)\n",
    "print(rahul(10,20))"
   ]
  },
  {
   "cell_type": "code",
   "execution_count": 176,
   "id": "06424cb2-312d-4dfb-8b76-b447c49a81a2",
   "metadata": {},
   "outputs": [
    {
     "name": "stdin",
     "output_type": "stream",
     "text": [
      "no: 25\n",
      "no: 15\n"
     ]
    },
    {
     "name": "stdout",
     "output_type": "stream",
     "text": [
      "40\n"
     ]
    }
   ],
   "source": [
    "###func with rv but no arg\n",
    "def love():\n",
    "    return a+b\n",
    "a=int(input(\"no:\"))\n",
    "b=int(input(\"no:\"))\n",
    "print(love())"
   ]
  },
  {
   "cell_type": "code",
   "execution_count": 178,
   "id": "c5d0d7d3-5bba-406c-af3a-98ba69a16de4",
   "metadata": {},
   "outputs": [
    {
     "name": "stdout",
     "output_type": "stream",
     "text": [
      "40\n"
     ]
    },
    {
     "name": "stdin",
     "output_type": "stream",
     "text": [
      "no: 10\n",
      "no: 00\n"
     ]
    },
    {
     "name": "stdout",
     "output_type": "stream",
     "text": [
      "None\n"
     ]
    }
   ],
   "source": [
    "###func without arg and rv\n",
    "def love():\n",
    "    a=int(input(\"no:\"))\n",
    "    b=int(input(\"no:\"))\n",
    "print(a+b)\n",
    "print(love())"
   ]
  },
  {
   "cell_type": "code",
   "execution_count": 181,
   "id": "12cdafcd-3296-4ae6-bce5-a7605e2531b1",
   "metadata": {},
   "outputs": [
    {
     "name": "stdout",
     "output_type": "stream",
     "text": [
      "71.11111111111111\n"
     ]
    }
   ],
   "source": [
    "### lambda func\n",
    "x=lambda c,h,y,d:c*h/y+d\n",
    "print(x(10,23,45,66))"
   ]
  },
  {
   "cell_type": "code",
   "execution_count": 184,
   "id": "c9bafe08-51cd-4ffd-b244-b9dce8d041c5",
   "metadata": {},
   "outputs": [
    {
     "name": "stdout",
     "output_type": "stream",
     "text": [
      "50\n",
      "None\n"
     ]
    }
   ],
   "source": [
    "### mix of lambda and def func and calling function\n",
    "def rahul():\n",
    "    x=lambda a,c:a*c\n",
    "    print(x(5,10))\n",
    "sur_name=rahul()\n",
    "print(sur_name)\n"
   ]
  },
  {
   "cell_type": "code",
   "execution_count": null,
   "id": "971bd070-ba67-4ec9-99cd-8e08819aadce",
   "metadata": {},
   "outputs": [],
   "source": [
    "### built in functions\n",
    "import math\n",
    "print(math.tan(1))"
   ]
  },
  {
   "cell_type": "code",
   "execution_count": null,
   "id": "d21e3f37-83a3-4873-b259-1ec77ca9afa6",
   "metadata": {},
   "outputs": [],
   "source": []
  }
 ],
 "metadata": {
  "kernelspec": {
   "display_name": "Python 3 (ipykernel)",
   "language": "python",
   "name": "python3"
  },
  "language_info": {
   "codemirror_mode": {
    "name": "ipython",
    "version": 3
   },
   "file_extension": ".py",
   "mimetype": "text/x-python",
   "name": "python",
   "nbconvert_exporter": "python",
   "pygments_lexer": "ipython3",
   "version": "3.12.7"
  }
 },
 "nbformat": 4,
 "nbformat_minor": 5
}
