{
 "cells": [
  {
   "cell_type": "code",
   "execution_count": 1,
   "id": "8eef9c1f-e9b1-48ac-92bb-cf938944557a",
   "metadata": {},
   "outputs": [
    {
     "name": "stdout",
     "output_type": "stream",
     "text": [
      "False\n"
     ]
    }
   ],
   "source": [
    "###revision\n",
    "num=lambda a:a%2==0\n",
    "print(num(5))"
   ]
  },
  {
   "cell_type": "code",
   "execution_count": 16,
   "id": "f275f206-36ff-4f45-9fd7-a3c1d8f20b51",
   "metadata": {},
   "outputs": [
    {
     "name": "stdout",
     "output_type": "stream",
     "text": [
      "True\n",
      "None\n"
     ]
    }
   ],
   "source": [
    "def cravin():\n",
    "    num=lambda a:a%2==0\n",
    "    return\n",
    "print(num(4))\n",
    "print(cravin())"
   ]
  },
  {
   "cell_type": "code",
   "execution_count": 18,
   "id": "cbd26168-ea37-4fc6-91d0-dec952f5b3cd",
   "metadata": {},
   "outputs": [
    {
     "name": "stdin",
     "output_type": "stream",
     "text": [
      "no: 10\n",
      "no: 20\n",
      "no: 30\n"
     ]
    },
    {
     "name": "stdout",
     "output_type": "stream",
     "text": [
      "30\n"
     ]
    }
   ],
   "source": [
    "a=int(input(\"no:\"))\n",
    "b=int(input(\"no:\"))\n",
    "c=int(input(\"no:\"))\n",
    "print(max(a,b,c))"
   ]
  },
  {
   "cell_type": "code",
   "execution_count": 27,
   "id": "c48625ef-ac4e-4b8b-b9f1-d7deeae0dd18",
   "metadata": {},
   "outputs": [
    {
     "name": "stdout",
     "output_type": "stream",
     "text": [
      "50.0\n"
     ]
    }
   ],
   "source": [
    "def temperature(a):\n",
    "    celsius=(a*9/5)+32\n",
    "    return celsius\n",
    "print(temperature(a))"
   ]
  },
  {
   "cell_type": "code",
   "execution_count": 67,
   "id": "436af8bc-51d1-46a3-9c0f-9ec1d5fbf952",
   "metadata": {},
   "outputs": [],
   "source": [
    "###class\n",
    "class college:\n",
    "    no_of_stud=500\n",
    "    no_of_teachers=20\n",
    "    no_of_rooms=10\n",
    "    no_of_buses=5\n",
    "def  msc(self):\n",
    "    print(\"the clg have improved\")\n",
    "def  bsc(self):\n",
    "    print(\"the clg have closed\")"
   ]
  },
  {
   "cell_type": "code",
   "execution_count": 36,
   "id": "28dad96e-e5f7-438b-be73-dcdd66ffdde0",
   "metadata": {},
   "outputs": [
    {
     "name": "stdin",
     "output_type": "stream",
     "text": [
      "enter the name: arjun\n",
      "enter the age: 21\n"
     ]
    }
   ],
   "source": [
    "class person:\n",
    "    name=input(\"enter the name:\")\n",
    "    age=input(\"enter the age:\")\n",
    " "
   ]
  },
  {
   "cell_type": "code",
   "execution_count": 38,
   "id": "7dbf6a1e-1bb0-4cad-bce7-2202582a3d98",
   "metadata": {},
   "outputs": [
    {
     "name": "stdout",
     "output_type": "stream",
     "text": [
      "arjun\n"
     ]
    }
   ],
   "source": [
    "rahul=person()\n",
    "print(rahul.name)"
   ]
  },
  {
   "cell_type": "code",
   "execution_count": 73,
   "id": "f543946a-3092-4bfb-a6ba-793e4e912189",
   "metadata": {},
   "outputs": [
    {
     "name": "stdout",
     "output_type": "stream",
     "text": [
      "10\n",
      "<__main__.college object at 0x00000217EB7D5A00> the clg have improved\n"
     ]
    }
   ],
   "source": [
    "phd=college()\n",
    "print(phd.no_of_rooms)\n",
    " "
   ]
  },
  {
   "cell_type": "code",
   "execution_count": 124,
   "id": "3427f2f7-50b0-46c6-93e3-32e1e2587342",
   "metadata": {},
   "outputs": [
    {
     "data": {
      "text/plain": [
       "'barks'"
      ]
     },
     "execution_count": 124,
     "metadata": {},
     "output_type": "execute_result"
    }
   ],
   "source": [
    "###poly and inheritance\n",
    "class animal():\n",
    "    def animal_makes_a_sound(self):\n",
    "        print(\"animal sound\")\n",
    "class sounds(animal):\n",
    "    def dog(self):\n",
    "        return \"barks\"\n",
    "    def cat(self):\n",
    "        return \"meow\"\n",
    "hhj=sounds()\n",
    "hhj.dog()"
   ]
  },
  {
   "cell_type": "code",
   "execution_count": 125,
   "id": "c0ed0c0b-3fc1-4ff3-b14a-dbeaa6e040ae",
   "metadata": {},
   "outputs": [],
   "source": [
    "class sum(10,20):\n",
    "    def add(self):\n",
    "        return  a+b\n",
    "class sub(sum):\n",
    "    def sub(self):\n",
    "        return a-b"
   ]
  },
  {
   "cell_type": "code",
   "execution_count": 140,
   "id": "348b28ad-9f67-444d-940d-8b8e82a5a1d3",
   "metadata": {},
   "outputs": [
    {
     "name": "stdout",
     "output_type": "stream",
     "text": [
      "mid end\n",
      "luxury\n",
      "unpredictable\n"
     ]
    }
   ],
   "source": [
    "###encapsulation\n",
    "\n",
    "class car():\n",
    "    def ciaz(self):\n",
    "        print(\"mid end\")\n",
    "        self._au_di()\n",
    "    def _au_di(self):\n",
    "        print(\"luxury\")\n",
    "        self.__rolls_royce()\n",
    "    def __rolls_royce(self):\n",
    "         print(\"unpredictable\")\n",
    "van=car()\n",
    "van.ciaz()\n"
   ]
  },
  {
   "cell_type": "code",
   "execution_count": 143,
   "id": "131402c0-4947-45fc-8f59-32e56e84d1ac",
   "metadata": {},
   "outputs": [
    {
     "name": "stdin",
     "output_type": "stream",
     "text": [
      "value: 55\n"
     ]
    },
    {
     "name": "stdout",
     "output_type": "stream",
     "text": [
      "55\n",
      "'55'\n"
     ]
    }
   ],
   "source": [
    "### str and repr\n",
    "x=input(\"value:\")\n",
    "print(str(x))\n",
    "print(repr(x))"
   ]
  },
  {
   "cell_type": "code",
   "execution_count": 166,
   "id": "74500f30-119a-4606-96e3-f730cade5b4e",
   "metadata": {},
   "outputs": [],
   "source": [
    "class suzuki():\n",
    "    def ciaz(self):\n",
    "        print(\"brand\",\"model\")\n",
    "       \n",
    "\n"
   ]
  },
  {
   "cell_type": "code",
   "execution_count": 168,
   "id": "427507ba-4caf-4e50-b4bc-2761fae8034a",
   "metadata": {},
   "outputs": [
    {
     "name": "stdout",
     "output_type": "stream",
     "text": [
      "brand model\n"
     ]
    }
   ],
   "source": [
    "car=suzuki()\n",
    "car.ciaz()"
   ]
  },
  {
   "cell_type": "code",
   "execution_count": null,
   "id": "b0b05de0-b0b4-4b47-9ef7-7bd384a670bf",
   "metadata": {},
   "outputs": [],
   "source": []
  }
 ],
 "metadata": {
  "kernelspec": {
   "display_name": "Python 3 (ipykernel)",
   "language": "python",
   "name": "python3"
  },
  "language_info": {
   "codemirror_mode": {
    "name": "ipython",
    "version": 3
   },
   "file_extension": ".py",
   "mimetype": "text/x-python",
   "name": "python",
   "nbconvert_exporter": "python",
   "pygments_lexer": "ipython3",
   "version": "3.12.7"
  }
 },
 "nbformat": 4,
 "nbformat_minor": 5
}
