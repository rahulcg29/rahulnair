{
 "cells": [
  {
   "cell_type": "code",
   "execution_count": 11,
   "id": "815d30ca-e5bc-48c5-87de-000d138bae51",
   "metadata": {},
   "outputs": [
    {
     "name": "stdin",
     "output_type": "stream",
     "text": [
      "Enter the subj: hh\n",
      "Enter the marks: 56\n"
     ]
    },
    {
     "name": "stdout",
     "output_type": "stream",
     "text": [
      "the student obtain second class dharani\n"
     ]
    }
   ],
   "source": [
    "# name=input(\"Enter the name:\")\n",
    "subj=input(\"Enter the subj:\")\n",
    "marks=int(input(\"Enter the marks:\"))\n",
    "if marks >70:\n",
    "    print(\"the student obtain first class\",name)\n",
    "elif marks >35 and marks <70:\n",
    "     print(\"the student obtain second class\",name)\n",
    "else:\n",
    "    print(\"the student failed\",name)"
   ]
  },
  {
   "cell_type": "code",
   "execution_count": 37,
   "id": "07debc8a-8500-4a79-8696-97e95547024e",
   "metadata": {},
   "outputs": [
    {
     "ename": "IndentationError",
     "evalue": "unexpected indent (2189170020.py, line 5)",
     "output_type": "error",
     "traceback": [
      "\u001b[1;36m  Cell \u001b[1;32mIn[37], line 5\u001b[1;36m\u001b[0m\n\u001b[1;33m    print(a+b)\u001b[0m\n\u001b[1;37m    ^\u001b[0m\n\u001b[1;31mIndentationError\u001b[0m\u001b[1;31m:\u001b[0m unexpected indent\n"
     ]
    }
   ],
   "source": [
    "a=int(input(\"enter the no:\"))\n",
    "b=int(input(\"enter the no:\"))\n",
    "operations in (\"add\",\"sub\",\"mult\",\"divi\")\n",
    "operations==add\n",
    "   print(a+b)\n",
    "operations==sub\n",
    "    print(a-b)\n",
    "operations==mult\n",
    "     print(a*b)\n",
    "operations==divi\n",
    "  print(a/b)\n"
   ]
  },
  {
   "cell_type": "code",
   "execution_count": 43,
   "id": "609a2116-a751-4619-9c3d-7b8cfb19d67f",
   "metadata": {},
   "outputs": [
    {
     "name": "stdout",
     "output_type": "stream",
     "text": [
      "<class 'str'>\n",
      "<class 'float'>\n",
      "<class 'int'>\n",
      "<class 'float'>\n"
     ]
    }
   ],
   "source": [
    "a=(\"rahul\")\n",
    "print(type(a))\n",
    "b=9.0\n",
    "print(type(b))\n",
    "c=34\n",
    "print(type(c))\n",
    "print(type(b+c))"
   ]
  },
  {
   "cell_type": "code",
   "execution_count": 46,
   "id": "7d932aba-37d9-4465-bb1e-ac649b3a3ea9",
   "metadata": {},
   "outputs": [
    {
     "name": "stdout",
     "output_type": "stream",
     "text": [
      "4.0\n",
      "6.0\n"
     ]
    }
   ],
   "source": [
    "a=float(4)\n",
    "print(a)\n",
    "b=float(\"6\")\n",
    "print(b)\n"
   ]
  },
  {
   "cell_type": "code",
   "execution_count": 52,
   "id": "13b004a4-9a18-4757-8514-3e5e9b3ec9e8",
   "metadata": {},
   "outputs": [
    {
     "name": "stdin",
     "output_type": "stream",
     "text": [
      " 5\n"
     ]
    },
    {
     "name": "stdout",
     "output_type": "stream",
     "text": [
      " prime\n"
     ]
    }
   ],
   "source": [
    "a=int(input())\n",
    "if a%2==0  or a%a==0:\n",
    "    print(\" prime\")\n",
    "else:\n",
    "    print(\"  not a prime\")"
   ]
  },
  {
   "cell_type": "code",
   "execution_count": 75,
   "id": "f85309a3-9af9-4769-a118-0e3c3e3a7b61",
   "metadata": {},
   "outputs": [
    {
     "name": "stdin",
     "output_type": "stream",
     "text": [
      " 5\n",
      " ash\n"
     ]
    },
    {
     "name": "stdout",
     "output_type": "stream",
     "text": [
      "5ash5ash\n"
     ]
    }
   ],
   "source": [
    "a=input()\n",
    "b=input()\n",
    "result=a+\"\"+b\n",
    "print(result*2)\n"
   ]
  },
  {
   "cell_type": "code",
   "execution_count": 77,
   "id": "a8fc9d04-8278-479b-9784-02991492e834",
   "metadata": {},
   "outputs": [
    {
     "name": "stdout",
     "output_type": "stream",
     "text": [
      "[1, 2, 3]\n",
      "[1, 2, 3]\n",
      "[1, 2, 3]\n"
     ]
    }
   ],
   "source": [
    "hh=[1,2,3]\n",
    "for i in hh:\n",
    "   print(hh)"
   ]
  },
  {
   "cell_type": "code",
   "execution_count": 88,
   "id": "a5b174c8-4eb3-448f-9c95-213bfbadae57",
   "metadata": {},
   "outputs": [
    {
     "name": "stdout",
     "output_type": "stream",
     "text": [
      "[1, 2, 3]\n",
      "[1, 2, 3]\n",
      "[1, 2, 3]\n"
     ]
    }
   ],
   "source": [
    "rah=[56,44,33]\n",
    "for rah in hh:\n",
    "    print(hh)"
   ]
  },
  {
   "cell_type": "code",
   "execution_count": null,
   "id": "ec80ceff-a469-4cac-a288-1422f234371d",
   "metadata": {},
   "outputs": [],
   "source": [
    "def_vowels\n",
    "print(calculate_vowels("
   ]
  }
 ],
 "metadata": {
  "kernelspec": {
   "display_name": "Python 3 (ipykernel)",
   "language": "python",
   "name": "python3"
  },
  "language_info": {
   "codemirror_mode": {
    "name": "ipython",
    "version": 3
   },
   "file_extension": ".py",
   "mimetype": "text/x-python",
   "name": "python",
   "nbconvert_exporter": "python",
   "pygments_lexer": "ipython3",
   "version": "3.12.7"
  }
 },
 "nbformat": 4,
 "nbformat_minor": 5
}
