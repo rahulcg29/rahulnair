{
 "cells": [
  {
   "cell_type": "code",
   "execution_count": null,
   "id": "468ea09b-6428-42e2-991f-d4ef11a6b278",
   "metadata": {},
   "outputs": [],
   "source": [
    "###numpy\n",
    "###numpy is a concept of numerical python it is faster than python list cost efficient save more memory than list\n"
   ]
  },
  {
   "cell_type": "code",
   "execution_count": 1,
   "id": "6bd82def-3ea4-43c9-a8c6-fc9bb1c4b583",
   "metadata": {},
   "outputs": [
    {
     "name": "stdout",
     "output_type": "stream",
     "text": [
      "[10 20 30]\n"
     ]
    }
   ],
   "source": [
    "import numpy as np\n",
    "n1=np.array([10,20,30])\n",
    "print(n1)"
   ]
  },
  {
   "cell_type": "code",
   "execution_count": 3,
   "id": "53cbfb06-be11-45b6-ac07-3784e3ab3a08",
   "metadata": {},
   "outputs": [
    {
     "name": "stdout",
     "output_type": "stream",
     "text": [
      "[[10 20 30]\n",
      " [50 60 70]]\n"
     ]
    }
   ],
   "source": [
    "###creating multidimension array\n",
    "n2=np.array([[10,20,30],[50,60,70]])\n",
    "print(n2)"
   ]
  },
  {
   "cell_type": "code",
   "execution_count": 8,
   "id": "27c19ba3-6e73-46f2-b6b8-202f5a4a464f",
   "metadata": {},
   "outputs": [
    {
     "name": "stdout",
     "output_type": "stream",
     "text": [
      "[[0. 0. 0. 0.]\n",
      " [0. 0. 0. 0.]]\n"
     ]
    }
   ],
   "source": [
    "###creating rows and column\n",
    "n3=np.zeros([2,4])\n",
    "print(n3)"
   ]
  },
  {
   "cell_type": "code",
   "execution_count": 11,
   "id": "df3adeab-3b33-43e4-905c-4522aeda0734",
   "metadata": {},
   "outputs": [
    {
     "name": "stdout",
     "output_type": "stream",
     "text": [
      "[[1. 1.]\n",
      " [1. 1.]\n",
      " [1. 1.]]\n"
     ]
    }
   ],
   "source": [
    "n4=np.ones([3,2]) ###first element indicate row & second element indiacte column\n",
    "print(n4)"
   ]
  },
  {
   "cell_type": "code",
   "execution_count": 17,
   "id": "d2801359-2b2b-43c0-a20f-2d4d73cc28c2",
   "metadata": {},
   "outputs": [
    {
     "name": "stdout",
     "output_type": "stream",
     "text": [
      "[[[1 1]\n",
      "  [1 1]\n",
      "  [1 1]\n",
      "  [1 1]]\n",
      "\n",
      " [[1 1]\n",
      "  [1 1]\n",
      "  [1 1]\n",
      "  [1 1]]\n",
      "\n",
      " [[1 1]\n",
      "  [1 1]\n",
      "  [1 1]\n",
      "  [1 1]]]\n"
     ]
    }
   ],
   "source": [
    "###three dimension array\n",
    "n5=np.ones([3,4,2],dtype=\"int32\")### first element indicate no of arrays and second one row third one coulmn\n",
    "print(n5)"
   ]
  },
  {
   "cell_type": "code",
   "execution_count": 18,
   "id": "491c5369-b17d-43d4-bec0-a26a96d83169",
   "metadata": {},
   "outputs": [
    {
     "name": "stdout",
     "output_type": "stream",
     "text": [
      "[[1. 1.]]\n"
     ]
    }
   ],
   "source": [
    "###empty array\n",
    "n6=np.empty([1,2])\n",
    "print(n6)"
   ]
  },
  {
   "cell_type": "code",
   "execution_count": 20,
   "id": "712c2825-4c72-4eda-9bd0-79d40e2d26f0",
   "metadata": {},
   "outputs": [
    {
     "name": "stdout",
     "output_type": "stream",
     "text": [
      "[0 1 2 3 4 5 6 7 8 9]\n"
     ]
    }
   ],
   "source": [
    "###range\n",
    "n7=np.arange(10)\n",
    "print(n7)"
   ]
  },
  {
   "cell_type": "code",
   "execution_count": 115,
   "id": "f47139b9-5aac-4aec-960e-62c2ba254a13",
   "metadata": {},
   "outputs": [
    {
     "name": "stdout",
     "output_type": "stream",
     "text": [
      "[[5 5 5 5]\n",
      " [5 5 5 5]]\n"
     ]
    }
   ],
   "source": [
    "###filling favor value\n",
    "n8=np.full([2,4],5)\n",
    "print(n8)"
   ]
  },
  {
   "cell_type": "code",
   "execution_count": 22,
   "id": "077b337b-0d2b-48f5-b097-b1bc64b3f337",
   "metadata": {},
   "outputs": [
    {
     "name": "stdout",
     "output_type": "stream",
     "text": [
      "[ 0  2  4  6  8 10]\n"
     ]
    }
   ],
   "source": [
    "n9=np.arange(0,11,2)\n",
    "print(n9)"
   ]
  },
  {
   "cell_type": "code",
   "execution_count": 24,
   "id": "fd0d51d8-b1c8-4e6e-b586-f4c1d30b3fe9",
   "metadata": {},
   "outputs": [
    {
     "name": "stdout",
     "output_type": "stream",
     "text": [
      "[[2. 2.]]\n"
     ]
    }
   ],
   "source": [
    "###fill concept\n",
    "n6.fill(2)\n",
    "print(n6)"
   ]
  },
  {
   "cell_type": "code",
   "execution_count": 26,
   "id": "6b4b9152-ae69-4151-8055-8ce051ac34b1",
   "metadata": {},
   "outputs": [
    {
     "name": "stdout",
     "output_type": "stream",
     "text": [
      "20\n"
     ]
    }
   ],
   "source": [
    "###to print any value from any array\n",
    "print(n1[1])"
   ]
  },
  {
   "cell_type": "code",
   "execution_count": 27,
   "id": "d61033b5-4f0e-4682-85d9-6ad3db521a2d",
   "metadata": {},
   "outputs": [
    {
     "name": "stdout",
     "output_type": "stream",
     "text": [
      "10\n"
     ]
    }
   ],
   "source": [
    "###alter method by calling value\n",
    "print(n2[0,0])"
   ]
  },
  {
   "cell_type": "code",
   "execution_count": 28,
   "id": "ad65ae4a-21bb-413a-b108-69ea5fbbae0b",
   "metadata": {},
   "outputs": [
    {
     "name": "stdout",
     "output_type": "stream",
     "text": [
      "[1. 1. 1.]\n"
     ]
    }
   ],
   "source": [
    "print(n4[:,0])\n"
   ]
  },
  {
   "cell_type": "code",
   "execution_count": 35,
   "id": "72e175c1-e65f-46c7-9c27-e60ea40693f9",
   "metadata": {},
   "outputs": [
    {
     "name": "stdout",
     "output_type": "stream",
     "text": [
      "[[[ 1  1]\n",
      "  [ 1  1]\n",
      "  [ 1  1]\n",
      "  [ 1  1]]\n",
      "\n",
      " [[ 1  1]\n",
      "  [ 1  1]\n",
      "  [ 1  1]\n",
      "  [ 1  1]]\n",
      "\n",
      " [[ 1  1]\n",
      "  [ 1  1]\n",
      "  [ 1 10]\n",
      "  [ 1  1]]]\n"
     ]
    }
   ],
   "source": [
    "n5[2,2,1] = (10)\n",
    "print(n5)"
   ]
  },
  {
   "cell_type": "code",
   "execution_count": 39,
   "id": "e09c5acf-b849-4ba6-922e-3a9944b146e8",
   "metadata": {},
   "outputs": [
    {
     "name": "stdout",
     "output_type": "stream",
     "text": [
      "3\n",
      "(3, 4, 2)\n",
      "24\n",
      "int32\n"
     ]
    }
   ],
   "source": [
    "###dimension also known by axes\n",
    "## size and shape\n",
    "##size=number of dimension\n",
    "print(n5.ndim)###ndim is used to calculate the no of dimension\n",
    "print(n5.shape)###Shape indicates the total no of row column dimension by the users input\n",
    "print(n5.size)###size indicate no of elements in an array\n",
    "print(n5.dtype)### dtype is used to print the tpye of an element"
   ]
  },
  {
   "cell_type": "code",
   "execution_count": 43,
   "id": "8083e25c-ecfc-498c-b93d-1e204d48972d",
   "metadata": {},
   "outputs": [
    {
     "name": "stdout",
     "output_type": "stream",
     "text": [
      "[[0 0 0 0 0 0 0 0 0 0]]\n"
     ]
    }
   ],
   "source": [
    "##practice question\n",
    "A=np.zeros([1,10],dtype=\"int32\")\n",
    "print(A)"
   ]
  },
  {
   "cell_type": "code",
   "execution_count": 47,
   "id": "914cf6ac-3509-44db-9ec2-95deeebe5091",
   "metadata": {},
   "outputs": [
    {
     "name": "stdout",
     "output_type": "stream",
     "text": [
      "[10 11 12 13 14 15 16 17 18 19 20 21 22 23 24 25 26 27 28 29 30 31 32 33\n",
      " 34 35 36 37 38 39 40 41 42 43 44 45 46 47 48 49]\n"
     ]
    }
   ],
   "source": [
    "B=np.arange(10,50)\n",
    "print(B)"
   ]
  },
  {
   "cell_type": "code",
   "execution_count": 60,
   "id": "acf21c08-d593-44d5-acd7-5184a4ded276",
   "metadata": {},
   "outputs": [
    {
     "name": "stdout",
     "output_type": "stream",
     "text": [
      "[[0 1 2]\n",
      " [3 4 5]\n",
      " [6 7 8]]\n"
     ]
    }
   ],
   "source": [
    "C=np.arange(9).reshape(3,3)\n",
    "print(C)\n"
   ]
  },
  {
   "cell_type": "code",
   "execution_count": 61,
   "id": "0da96779-4c6e-46ff-9f1e-f0ec8a4def03",
   "metadata": {},
   "outputs": [
    {
     "name": "stdout",
     "output_type": "stream",
     "text": [
      "(3, 3)\n"
     ]
    }
   ],
   "source": [
    "print(C.shape)"
   ]
  },
  {
   "cell_type": "code",
   "execution_count": 64,
   "id": "32791c23-1ccb-4b54-b3fa-5a7bb1a27c7a",
   "metadata": {},
   "outputs": [
    {
     "name": "stdout",
     "output_type": "stream",
     "text": [
      "4\n",
      "36\n"
     ]
    }
   ],
   "source": [
    "###itemsize and bytes\n",
    "print(C.itemsize)\n",
    "print(C.nbytes)"
   ]
  },
  {
   "cell_type": "code",
   "execution_count": 77,
   "id": "4369094e-1d11-4cc5-8ad0-a730472e35ad",
   "metadata": {},
   "outputs": [
    {
     "data": {
      "text/plain": [
       "array([ 10,  20,  22,  30,  50, 112])"
      ]
     },
     "execution_count": 77,
     "metadata": {},
     "output_type": "execute_result"
    }
   ],
   "source": [
    " n15=[10,20,30,50,22,112]\n",
    "np.sort(n15)"
   ]
  },
  {
   "cell_type": "code",
   "execution_count": 83,
   "id": "ce500965-fdd3-4346-b548-8446c03a7630",
   "metadata": {},
   "outputs": [
    {
     "name": "stdout",
     "output_type": "stream",
     "text": [
      "[0 1 2 3 4]\n",
      "[0 1 2 3 4 5 6 7]\n",
      "[0 1 2 3 4 0 1 2 3 4 5 6 7]\n"
     ]
    }
   ],
   "source": [
    "###concatenate is used to join multiple arrays into one\n",
    "C=np.arange(5)\n",
    "print(C)\n",
    "D=np.arange(8)\n",
    "print(D)\n",
    "E=np.concatenate((C,D))\n",
    "print(E)"
   ]
  },
  {
   "cell_type": "code",
   "execution_count": 95,
   "id": "e1ed1da7-a87d-4c34-a124-9bf33f782783",
   "metadata": {},
   "outputs": [
    {
     "name": "stdout",
     "output_type": "stream",
     "text": [
      "[[5 5]]\n",
      "4\n"
     ]
    }
   ],
   "source": [
    "###PANDAS\n",
    "Z=np.full([1,2],5)\n",
    "print(Z)\n",
    "print(Z.itemsize)"
   ]
  },
  {
   "cell_type": "code",
   "execution_count": 104,
   "id": "3acd04b9-14e1-437a-ae9d-4165d7370e7d",
   "metadata": {},
   "outputs": [
    {
     "name": "stdout",
     "output_type": "stream",
     "text": [
      "    brand   model  year\n",
      "0    audi      A4  2015\n",
      "1     BMW    320D  2017\n",
      "2  suzuki  SCROSS  2022\n"
     ]
    }
   ],
   "source": [
    "import pandas as p\n",
    "car={\"brand\":[\"audi\",\"BMW\",\"suzuki\"],\"model\":[\"A4\",\"320D\",\"SCROSS\"],\"year\":[2015,2017,2022]}\n",
    "shop=p.DataFrame(car)\n",
    "print(shop)"
   ]
  },
  {
   "cell_type": "code",
   "execution_count": 105,
   "id": "48a0c6a7-aa38-4f8e-8abc-5df8b684f0b6",
   "metadata": {},
   "outputs": [
    {
     "name": "stdout",
     "output_type": "stream",
     "text": [
      "2.2.2\n"
     ]
    }
   ],
   "source": [
    "print(p.__version__)"
   ]
  },
  {
   "cell_type": "code",
   "execution_count": 107,
   "id": "ca0f39db-503f-49d0-b6fa-5944e7be046b",
   "metadata": {},
   "outputs": [
    {
     "name": "stdout",
     "output_type": "stream",
     "text": [
      "brand    [audi, BMW, suzuki]\n",
      "model     [A4, 320D, SCROSS]\n",
      "year      [2015, 2017, 2022]\n",
      "dtype: object\n"
     ]
    }
   ],
   "source": [
    "\n",
    "shop=p.Series(car)\n",
    "print(shop)"
   ]
  },
  {
   "cell_type": "code",
   "execution_count": 108,
   "id": "5088b177-2f88-4f31-acfa-eaba6bc29988",
   "metadata": {},
   "outputs": [
    {
     "name": "stdout",
     "output_type": "stream",
     "text": [
      "1     10\n",
      "2     15\n",
      "3    222\n",
      "dtype: int64\n"
     ]
    }
   ],
   "source": [
    "num=[10,15,222]\n",
    "value=p.Series((num),index=[1,2,3])\n",
    "print(value)"
   ]
  },
  {
   "cell_type": "code",
   "execution_count": 114,
   "id": "25b1c3c7-c127-4da1-945c-a72c9a0d715e",
   "metadata": {},
   "outputs": [
    {
     "name": "stdout",
     "output_type": "stream",
     "text": [
      "15\n"
     ]
    }
   ],
   "source": [
    "value=p.Series(num)\n",
    "print(value[1])"
   ]
  },
  {
   "cell_type": "code",
   "execution_count": 127,
   "id": "21a897f5-2594-4837-a499-0693f0bc7098",
   "metadata": {},
   "outputs": [
    {
     "name": "stdout",
     "output_type": "stream",
     "text": [
      "day1    420\n",
      "day2    500\n",
      "dtype: object\n"
     ]
    }
   ],
   "source": [
    "order={\"day1\":\"420\",\"day2\":\"500\",\"day3\":\"600\"}\n",
    "value=p.Series(order,index=[\"day1\",\"day2\"])\n",
    "print(value)"
   ]
  },
  {
   "cell_type": "code",
   "execution_count": 136,
   "id": "cd38c0cc-891b-4b0d-8a4c-9ea667e2bd4d",
   "metadata": {},
   "outputs": [
    {
     "name": "stdout",
     "output_type": "stream",
     "text": [
      "    name     sub\n",
      "0  rahul  python\n"
     ]
    }
   ],
   "source": [
    "import pandas as pd\n",
    "person={\"name\":[\"rahul\"],\"sub\":[\"python\"]}\n",
    "people=pd.DataFrame(person)\n",
    "print(people)"
   ]
  },
  {
   "cell_type": "code",
   "execution_count": 138,
   "id": "5ecc985e-9202-4b05-998c-4f1d3a8fc530",
   "metadata": {},
   "outputs": [
    {
     "name": "stdout",
     "output_type": "stream",
     "text": [
      "calories    420\n",
      "duration     40\n",
      "Name: 1, dtype: int64\n"
     ]
    }
   ],
   "source": [
    "data={\"calories\":[420,300,380],\"duration\":[40,30,38]}\n",
    "dh=pd.DataFrame(data,index=[1,2,3])\n",
    "print(dh.loc[1])###loc is used to locate the position of the element"
   ]
  },
  {
   "cell_type": "code",
   "execution_count": 166,
   "id": "14a2ad2e-24d8-4b4f-b69b-e291944f1edf",
   "metadata": {},
   "outputs": [
    {
     "data": {
      "image/png": "[encoded data removed]",
      "text/plain": [
       "<Figure size 640x480 with 1 Axes>"
      ]
     },
     "metadata": {},
     "output_type": "display_data"
    }
   ],
   "source": [
    "import matplotlib.pyplot as plt\n",
    "import numpy as np\n",
    "x=np.array([1,2,3,4])\n",
    "y=np.array([10,20,30,40])\n",
    "sizes=np.array([100,200,300,400])\n",
    "colors=np.array([1,5,10,20])\n",
    "\n",
    "plt.scatter(x,y,c=colors,s=size,alpha=0.6)\n",
    "plt.show()"
   ]
  },
  {
   "cell_type": "code",
   "execution_count": 168,
   "id": "ed70052f-03fd-43cd-9826-85a30a38e10d",
   "metadata": {},
   "outputs": [
    {
     "data": {
      "image/png": "[encoded data removed]",
      "text/plain": [
       "<Figure size 640x480 with 1 Axes>"
      ]
     },
     "metadata": {},
     "output_type": "display_data"
    }
   ],
   "source": [
    "import matplotlib.pyplot as plt\n",
    "plt.plot([1,2,4,5],[10,20,40,50])\n",
    "plt.xlabel('x_axis')\n",
    "plt.ylabel('y_axis')\n",
    "plt.show()"
   ]
  },
  {
   "cell_type": "code",
   "execution_count": null,
   "id": "0437aa81-c1d9-46d2-8cf4-0f93c40e5b48",
   "metadata": {},
   "outputs": [],
   "source": [
    "###flask django and fast api are open based framework for python\n",
    "###API=application program interface\n",
    "##api act as a mediyator between frontend and backend\n",
    "##there are different kind of apis such as {SOAP,REST REPRESENTATION STATE TRANSFER,INTERNAL API and so on}\n",
    "\n"
   ]
  },
  {
   "cell_type": "code",
   "execution_count": 193,
   "id": "3dff01dd-e6f2-4214-bc2d-24e86a63b1e6",
   "metadata": {},
   "outputs": [
    {
     "data": {
      "text/plain": [
       "<__main__.people at 0x27b03fe2690>"
      ]
     },
     "execution_count": 193,
     "metadata": {},
     "output_type": "execute_result"
    }
   ],
   "source": [
    "class people():\n",
    "    def stud(self):\n",
    "        self.person=[]\n",
    "    def peop(self,name,subject,school):\n",
    "        new_scl={\"name\":\"rahul\",\"subject\":\"python\",\"school\":\"rks\"}\n",
    "        self.person.append(new_scl)\n",
    "        return new_scl\n",
    "people()\n",
    "        "
   ]
  },
  {
   "cell_type": "code",
   "execution_count": 198,
   "id": "4dca868a-c388-4645-9520-63e643552f60",
   "metadata": {},
   "outputs": [
    {
     "data": {
      "text/plain": [
       "<bound method people.peop of <__main__.people object at 0x0000027B05CC7E00>>"
      ]
     },
     "execution_count": 198,
     "metadata": {},
     "output_type": "execute_result"
    }
   ],
   "source": [
    "arjun=people()\n",
    "\n",
    "arjun.peop"
   ]
  },
  {
   "cell_type": "code",
   "execution_count": 218,
   "id": "cee07847-316c-497e-99a0-ae2d2ffa384c",
   "metadata": {},
   "outputs": [
    {
     "name": "stdout",
     "output_type": "stream",
     "text": [
      "[10 15 20 30 50]\n"
     ]
    }
   ],
   "source": [
    "import numpy as pa\n",
    "A=[10,20,30,15,50]\n",
    "people=pa.sort(A)\n",
    "print(people)"
   ]
  },
  {
   "cell_type": "code",
   "execution_count": null,
   "id": "99c6563b-34db-4dad-a084-fcafdefd75f8",
   "metadata": {},
   "outputs": [],
   "source": [
    "import calendar\n",
    "day=calendar.calen"
   ]
  }
 ],
 "metadata": {
  "kernelspec": {
   "display_name": "Python 3 (ipykernel)",
   "language": "python",
   "name": "python3"
  },
  "language_info": {
   "codemirror_mode": {
    "name": "ipython",
    "version": 3
   },
   "file_extension": ".py",
   "mimetype": "text/x-python",
   "name": "python",
   "nbconvert_exporter": "python",
   "pygments_lexer": "ipython3",
   "version": "3.12.7"
  }
 },
 "nbformat": 4,
 "nbformat_minor": 5
}
