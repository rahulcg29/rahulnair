{
 "cells": [
  {
   "cell_type": "code",
   "execution_count": 11,
   "id": "fd629df1-e17d-4c35-9f01-c09a695b34bc",
   "metadata": {},
   "outputs": [
    {
     "data": {
      "text/plain": [
       "<__main__.college at 0x1b9250fcbc0>"
      ]
     },
     "execution_count": 11,
     "metadata": {},
     "output_type": "execute_result"
    }
   ],
   "source": [
    "### practice\n",
    "class college():\n",
    "    def details(self):\n",
    "        name=input(\"enter stu name:\")\n",
    "        clgname=input(\"enter clg name:\")\n",
    "        Fees=int(input(\"cost:\"))\n",
    "college()"
   ]
  },
  {
   "cell_type": "code",
   "execution_count": 13,
   "id": "de756415-c97d-4e49-ad19-6beb8e4e584d",
   "metadata": {},
   "outputs": [
    {
     "name": "stdin",
     "output_type": "stream",
     "text": [
      "enter stu name: Rahul\n",
      "enter clg name: SKACAS\n",
      "cost: 100000\n"
     ]
    }
   ],
   "source": [
    "RVS=college()\n",
    "RVS.details()"
   ]
  },
  {
   "cell_type": "code",
   "execution_count": 17,
   "id": "3bde86f0-a2d0-45c9-adcd-4128437be1be",
   "metadata": {},
   "outputs": [
    {
     "data": {
      "text/plain": [
       "<__main__.scl at 0x1b925360140>"
      ]
     },
     "execution_count": 17,
     "metadata": {},
     "output_type": "execute_result"
    }
   ],
   "source": [
    "class scl():\n",
    "    def students(self):\n",
    "        name=input(\"Enter the name:\")\n",
    "        rollno=int(input(\"enter the number:\"))\n",
    "        marks=int(input(\"enter the marks:\"))\n",
    "        if marks>50:\n",
    "            print(\"pass\")\n",
    "        else:\n",
    "            print(\"fail\")\n",
    "scl()"
   ]
  },
  {
   "cell_type": "code",
   "execution_count": 20,
   "id": "d22ba1fc-6947-4b2c-906e-6b9c7e3675e4",
   "metadata": {},
   "outputs": [
    {
     "name": "stdin",
     "output_type": "stream",
     "text": [
      "Enter the name: cravin\n",
      "enter the number: 23102\n",
      "enter the marks: 40\n"
     ]
    },
    {
     "name": "stdout",
     "output_type": "stream",
     "text": [
      "fail\n"
     ]
    }
   ],
   "source": [
    "rahul=scl()\n",
    "rahul.students()"
   ]
  },
  {
   "cell_type": "code",
   "execution_count": 53,
   "id": "4bc69a29-6824-4f4d-b002-d0b2986fc159",
   "metadata": {},
   "outputs": [
    {
     "name": "stdin",
     "output_type": "stream",
     "text": [
      "num: 50\n",
      "num: nair\n"
     ]
    },
    {
     "name": "stdout",
     "output_type": "stream",
     "text": [
      "ValueError invalid literal for int() with base 10: 'nair'\n",
      "done\n"
     ]
    }
   ],
   "source": [
    "###try and except and finally concept\n",
    "try:\n",
    "    a=int(input(\"num:\"))\n",
    "    b=int(input(\"num:\"))\n",
    "    print(a/b)\n",
    "except ValueError as e :\n",
    "    print(\"ValueError\",e)\n",
    "except ZeroDivisionError as e :\n",
    "    print(\"ZeroDivisionError\",e)\n",
    "finally:\n",
    "    print(\"done\")"
   ]
  },
  {
   "cell_type": "code",
   "execution_count": 50,
   "id": "04fe44d4-422b-42ff-a48d-f5f99fe95f63",
   "metadata": {},
   "outputs": [
    {
     "name": "stdin",
     "output_type": "stream",
     "text": [
      "num: 50\n",
      "num: nair\n"
     ]
    },
    {
     "name": "stdout",
     "output_type": "stream",
     "text": [
      "Exception invalid literal for int() with base 10: 'nair'\n",
      "done\n"
     ]
    }
   ],
   "source": [
    "### multiple exception blocks\n",
    "try:\n",
    "    a=int(input(\"num:\"))\n",
    "    b=int(input(\"num:\"))\n",
    "    print(a/b)\n",
    "except Exception as e :\n",
    "    print(\"Exception\",e)\n",
    "except ZeroDivisionError  as e:\n",
    "    print(\"ZeroDivisionError\",e)\n",
    "finally:\n",
    "    print(\"done\")"
   ]
  },
  {
   "cell_type": "code",
   "execution_count": 58,
   "id": "3510fd35-80e3-4361-aa03-47ce02d02a1a",
   "metadata": {
    "collapsed": true,
    "jupyter": {
     "outputs_hidden": true
    }
   },
   "outputs": [
    {
     "name": "stdin",
     "output_type": "stream",
     "text": [
      "no: nair\n"
     ]
    },
    {
     "name": "stdout",
     "output_type": "stream",
     "text": [
      "Exception invalid literal for int() with base 10: 'nair'\n",
      "all done\n"
     ]
    }
   ],
   "source": [
    "try:\n",
    "    a=int(input(\"no:\"))\n",
    "    b=int(input(\"no:\"))\n",
    "    c=int(input(\"no:\"))\n",
    "    print(a/b+c)\n",
    "except Exception as e:\n",
    "    print(\"Exception\",e)\n",
    "except ValueError as e:\n",
    "    print(\"ValueError\",e)\n",
    "except ZeroDivisionError as e:\n",
    "    print(\"ZeroDivisionError\",e)\n",
    "finally:\n",
    "    print(\"all done\")"
   ]
  },
  {
   "cell_type": "code",
   "execution_count": 98,
   "id": "03026411-f847-4f5f-a365-61a799981bf5",
   "metadata": {},
   "outputs": [],
   "source": [
    "####open and close\n",
    "##f.read()s used to read the file\n",
    "##f.write()is used to write the file\n",
    "###f.open()is used to open the file\n",
    "###f.close()is yused to close the file when the file closed no more actons take place\n",
    "###f.(r+) is used to add new element in the file by not disturb the existing element"
   ]
  },
  {
   "cell_type": "code",
   "execution_count": 99,
   "id": "51c6666e-84e0-4b0d-a9ec-fadbdfc7508b",
   "metadata": {},
   "outputs": [
    {
     "ename": "SyntaxError",
     "evalue": "unterminated string literal (detected at line 6) (3389090730.py, line 6)",
     "output_type": "error",
     "traceback": [
      "\u001b[1;36m  Cell \u001b[1;32mIn[99], line 6\u001b[1;36m\u001b[0m\n\u001b[1;33m    ''''\u001b[0m\n\u001b[1;37m       ^\u001b[0m\n\u001b[1;31mSyntaxError\u001b[0m\u001b[1;31m:\u001b[0m unterminated string literal (detected at line 6)\n"
     ]
    }
   ],
   "source": [
    "### context manager\n",
    "    '''''\n",
    "with open(\"rahu2005.ipynb\")as open_file_cm:\n",
    "    kuppa=open_file_cm.read()\n",
    "    print(kuppa)\n",
    "    ''''"
   ]
  },
  {
   "cell_type": "code",
   "execution_count": 101,
   "id": "e88e7b27-8563-4db0-9577-08b7efdf42c9",
   "metadata": {},
   "outputs": [
    {
     "name": "stdin",
     "output_type": "stream",
     "text": [
      "ENTER THE NUMBER: 50\n",
      "ENTER THE NUMBER: 20\n"
     ]
    },
    {
     "name": "stdout",
     "output_type": "stream",
     "text": [
      "2.5\n"
     ]
    }
   ],
   "source": [
    "### practice qn\n",
    "try:\n",
    "    a=int(input(\"ENTER THE NUMBER:\"))\n",
    "    b=int(input(\"ENTER THE NUMBER:\"))\n",
    "    print(a/b)\n",
    "except ZeroDivisionError as e:\n",
    "    print(\"ZeroDivisionError\",e)"
   ]
  },
  {
   "cell_type": "code",
   "execution_count": 103,
   "id": "c74f9958-8708-4523-9faa-a3e58dea84c0",
   "metadata": {},
   "outputs": [
    {
     "name": "stdout",
     "output_type": "stream",
     "text": [
      "\n"
     ]
    }
   ],
   "source": [
    "f=open(\"python1605.ipynb\")\n",
    "view=f.read()\n",
    "print(view)"
   ]
  },
  {
   "cell_type": "code",
   "execution_count": null,
   "id": "6c90bfa2-5953-40d3-9a9f-ac3a3807de24",
   "metadata": {},
   "outputs": [],
   "source": [
    "### context manager\n",
    "syntax\n",
    "with open(\"filename\") as newfile name_():\n",
    "the main advantage of the function it doesnt need a close file concept it automatically implement\n"
   ]
  },
  {
   "cell_type": "code",
   "execution_count": null,
   "id": "be42c38c-d01d-43b0-9651-23145048aa84",
   "metadata": {},
   "outputs": [],
   "source": [
    "###csv and json \n",
    "csv=camma separated value is shrtly knwn by csv\n",
    "mainly used in camma separated inputs "
   ]
  }
 ],
 "metadata": {
  "kernelspec": {
   "display_name": "Python 3 (ipykernel)",
   "language": "python",
   "name": "python3"
  },
  "language_info": {
   "codemirror_mode": {
    "name": "ipython",
    "version": 3
   },
   "file_extension": ".py",
   "mimetype": "text/x-python",
   "name": "python",
   "nbconvert_exporter": "python",
   "pygments_lexer": "ipython3",
   "version": "3.12.7"
  }
 },
 "nbformat": 4,
 "nbformat_minor": 5
}
